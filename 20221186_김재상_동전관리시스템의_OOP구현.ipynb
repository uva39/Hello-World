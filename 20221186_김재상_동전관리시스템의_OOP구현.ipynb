{
  "cells": [
    {
      "cell_type": "code",
      "execution_count": null,
      "metadata": {
        "colab": {
          "base_uri": "https://localhost:8080/"
        },
        "id": "DgiYpXB-OdS9",
        "outputId": "ad8c94ac-4d7a-4244-d5e2-579a56e8e1c9"
      },
      "outputs": [
        {
          "output_type": "stream",
          "name": "stdout",
          "text": [
            "Writing purse-input.txt\n"
          ]
        }
      ],
      "source": [
        "%%writefile purse-input.txt\n",
        "서강일, 500, 100, 10, 50, 500, 100, 100\n",
        "서강이, 500, 50, 50, 100, 100, 10\n",
        "서강삼, 100, 100, 100, 10\n",
        "서강사, 500, 500, 500, 50, 50, 50, 100\n",
        "서강오, 500, 100, 100, 500, 100, 10, 10, 1\n",
        "서강육, 100, 50, 100, 50, 100, 100, 500\n",
        "서강칠, 50, 500, 500, 100, 100\n",
        "서강팔, 500, 500, 500, 50, 100, 100"
      ]
    },
    {
      "cell_type": "code",
      "execution_count": null,
      "metadata": {
        "colab": {
          "base_uri": "https://localhost:8080/"
        },
        "id": "k2fIt9IgOdTA",
        "outputId": "b37da3f8-fc49-4b66-a137-cf1e21714de5"
      },
      "outputs": [
        {
          "output_type": "stream",
          "name": "stdout",
          "text": [
            "Writing checktime.py\n"
          ]
        }
      ],
      "source": [
        "%%writefile checktime.py\n",
        "import time\n",
        "\n",
        "def elapsed(f):\n",
        "    def wrap(*args, **kwargs):\n",
        "        start = time.time()\n",
        "        ret = f(*args, **kwargs)\n",
        "        end = time.time()\n",
        "\n",
        "        elapsed = end - start\n",
        "        print(f'실행시간은 {elapsed}')\n",
        "        return ret\n",
        "    return wrap"
      ]
    },
    {
      "cell_type": "code",
      "execution_count": null,
      "metadata": {
        "colab": {
          "base_uri": "https://localhost:8080/"
        },
        "id": "v33VlN6HOdTB",
        "outputId": "49ba2d94-d9a7-4975-a62c-2a16d9aa9a01"
      },
      "outputs": [
        {
          "output_type": "stream",
          "name": "stdout",
          "text": [
            "Writing purse.py\n"
          ]
        }
      ],
      "source": [
        "%%writefile purse.py\n",
        "class Purse:\n",
        "    def __init__(self, num, name, coins):\n",
        "        self._num = num\n",
        "        self._name = name\n",
        "        self._coins = coins\n",
        "\n",
        "    @property\n",
        "    def num(self):\n",
        "        return self._num\n",
        "    @property\n",
        "    def name(self):\n",
        "        return self._name\n",
        "    @property\n",
        "    def coins(self):\n",
        "        return self._coins"
      ]
    },
    {
      "cell_type": "code",
      "execution_count": null,
      "metadata": {
        "colab": {
          "base_uri": "https://localhost:8080/"
        },
        "id": "mDfw7Ib7OdTC",
        "outputId": "aa46050c-c9cc-41be-b7d9-236b9b9ba4be"
      },
      "outputs": [
        {
          "output_type": "stream",
          "name": "stdout",
          "text": [
            "Writing purse_manager.py\n"
          ]
        }
      ],
      "source": [
        "%%writefile purse_manager.py\n",
        "from purse import Purse\n",
        "\n",
        "class PurseMgtSystem:\n",
        "    def __init__(self):\n",
        "        self.purses = []\n",
        "    \n",
        "    @staticmethod\n",
        "    def total_coins(purse):\n",
        "        'purse의 총 금액을 계산하는 함수'\n",
        "        total = sum(coin * purse.coins[coin] for coin in purse.coins)\n",
        "        return total\n",
        "\n",
        "    def register_pulse(self, filename):\n",
        "        with open(filename, 'r') as f:\n",
        "            for i, line in enumerate(f, 1): # 1부터 시작\n",
        "                name, *temp = line.split(',')\n",
        "                temp = [*map(int, temp)]\n",
        "                coins = {500:0, 100:0, 50:0, 10:0, 1:0}\n",
        "                for x in temp:\n",
        "                    coins[x] += 1\n",
        "                purse = Purse(i, name, coins)\n",
        "                self.purses.append(purse)\n",
        "        # 보유 금액을 기준으로 오름차순으로 정렬\n",
        "        self.purses.sort(key=self.total_coins, reverse=True)\n",
        "        # 미리 등수 구해두기\n",
        "        self.grade = [1]\n",
        "        for i in range(1, len(self.purses)):\n",
        "            # 이전 금액과 같으면 등수를 같게\n",
        "            if self.total_coins(self.purses[i]) == self.total_coins(self.purses[i-1]):\n",
        "                self.grade.append(self.grade[i-1])\n",
        "            else:\n",
        "                self.grade.append(i+1)\n",
        "\n",
        "\n",
        "    def process(self):\n",
        "        for purse, g in zip(self.purses, self.grade):\n",
        "            print(f'번호:{purse.num} 이름:{purse.name} ', end='')\n",
        "            for coin in purse.coins:\n",
        "                print(f'{coin}원:{purse.coins[coin]} ', end='')\n",
        "            print(f'총액:{self.total_coins(purse)} 순위:{g}', end='\\n\\n')\n",
        "    \n",
        "    def get_most_coins(self):\n",
        "        c = int(input('동전:'))\n",
        "        maximum = max(purse.coins[c] for purse in self.purses) \n",
        "        print('최다 보유자들')\n",
        "        for purse in self.purses:\n",
        "            if purse.coins[c] == maximum:\n",
        "                print(f'번호: {purse.num} 이름: {purse.name} 개수: {maximum}')\n",
        "        print()"
      ]
    },
    {
      "cell_type": "code",
      "execution_count": null,
      "metadata": {
        "colab": {
          "base_uri": "https://localhost:8080/"
        },
        "id": "0MyI3s9fOdTD",
        "outputId": "1653c944-387e-49e1-b230-c9b1e050a190"
      },
      "outputs": [
        {
          "output_type": "stream",
          "name": "stdout",
          "text": [
            "번호:4 이름:서강사 500원:3 100원:1 50원:3 10원:0 1원:0 총액:1750 순위:1\n",
            "\n",
            "번호:8 이름:서강팔 500원:3 100원:2 50원:1 10원:0 1원:0 총액:1750 순위:1\n",
            "\n",
            "번호:1 이름:서강일 500원:2 100원:3 50원:1 10원:1 1원:0 총액:1360 순위:3\n",
            "\n",
            "번호:5 이름:서강오 500원:2 100원:3 50원:0 10원:2 1원:1 총액:1321 순위:4\n",
            "\n",
            "번호:7 이름:서강칠 500원:2 100원:2 50원:1 10원:0 1원:0 총액:1250 순위:5\n",
            "\n",
            "번호:6 이름:서강육 500원:1 100원:4 50원:2 10원:0 1원:0 총액:1000 순위:6\n",
            "\n",
            "번호:2 이름:서강이 500원:1 100원:2 50원:2 10원:1 1원:0 총액:810 순위:7\n",
            "\n",
            "번호:3 이름:서강삼 500원:0 100원:3 50원:0 10원:1 1원:0 총액:310 순위:8\n",
            "\n",
            "동전:500\n",
            "최다 보유자들\n",
            "번호: 4 이름: 서강사 개수: 3\n",
            "번호: 8 이름: 서강팔 개수: 3\n",
            "\n"
          ]
        }
      ],
      "source": [
        "import checktime\n",
        "from purse_manager import PurseMgtSystem\n",
        "\n",
        "def main():\n",
        "    pms = PurseMgtSystem()\n",
        "    pms.register_pulse('purse-input.txt')\n",
        "    pms.process()\n",
        "    pms.get_most_coins()\n",
        "\n",
        "if __name__ == '__main__':\n",
        "    main()"
      ]
    }
  ],
  "metadata": {
    "kernelspec": {
      "display_name": "Python 3",
      "language": "python",
      "name": "python3"
    },
    "language_info": {
      "codemirror_mode": {
        "name": "ipython",
        "version": 3
      },
      "file_extension": ".py",
      "mimetype": "text/x-python",
      "name": "python",
      "nbconvert_exporter": "python",
      "pygments_lexer": "ipython3",
      "version": "3.10.7"
    },
    "orig_nbformat": 4,
    "vscode": {
      "interpreter": {
        "hash": "b0fa6594d8f4cbf19f97940f81e996739fb7646882a419484c72d19e05852a7e"
      }
    },
    "colab": {
      "provenance": [],
      "collapsed_sections": []
    }
  },
  "nbformat": 4,
  "nbformat_minor": 0
}