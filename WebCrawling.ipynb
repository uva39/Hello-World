{
 "cells": [
  {
   "cell_type": "markdown",
   "metadata": {},
   "source": [
    "# Import"
   ]
  },
  {
   "cell_type": "code",
   "execution_count": null,
   "metadata": {},
   "outputs": [],
   "source": [
    "from selenium import webdriver\n",
    "from bs4 import BeautifulSoup\n",
    "from selenium.webdriver.common.by import By\n",
    "from datetime import datetime, timedelta\n",
    "\n",
    "url = \"https://www.agrion.kr/portal/fdp/fpi/selectFrmprdPcInfo.do\"\n",
    "\n",
    "browser = webdriver.Safari()\n",
    "browser.get(url)\n",
    "browser."
   ]
  },
  {
   "cell_type": "markdown",
   "metadata": {},
   "source": [
    "# Main"
   ]
  },
  {
   "cell_type": "code",
   "execution_count": null,
   "metadata": {},
   "outputs": [
    {
     "ename": "AttributeError",
     "evalue": "'WebDriver' object has no attribute 'find_element_by_class_name'",
     "output_type": "error",
     "traceback": [
      "\u001b[0;31m---------------------------------------------------------------------------\u001b[0m\n",
      "\u001b[0;31mAttributeError\u001b[0m                            Traceback (most recent call last)\n",
      "Cell \u001b[0;32mIn [2], line 12\u001b[0m\n",
      "\u001b[1;32m      9\u001b[0m start_date \u001b[39m=\u001b[39m datetime\u001b[39m.\u001b[39mstrptime(start, \u001b[39m\"\u001b[39m\u001b[39m%\u001b[39m\u001b[39mY.\u001b[39m\u001b[39m%\u001b[39m\u001b[39mm.\u001b[39m\u001b[39m%d\u001b[39;00m\u001b[39m.\u001b[39m\u001b[39m\"\u001b[39m)\n",
      "\u001b[1;32m     10\u001b[0m end_date \u001b[39m=\u001b[39m datetime\u001b[39m.\u001b[39mstrptime(end, \u001b[39m\"\u001b[39m\u001b[39m%\u001b[39m\u001b[39mY.\u001b[39m\u001b[39m%\u001b[39m\u001b[39mm.\u001b[39m\u001b[39m%d\u001b[39;00m\u001b[39m.\u001b[39m\u001b[39m\"\u001b[39m)\n",
      "\u001b[0;32m---> 12\u001b[0m timebox \u001b[39m=\u001b[39m browser\u001b[39m.\u001b[39;49mfind_element_by_class_name(\u001b[39m\"\u001b[39m\u001b[39mdateCon2\u001b[39m\u001b[39m\"\u001b[39m)\n",
      "\u001b[1;32m     13\u001b[0m timebox\u001b[39m.\u001b[39mclick()\n",
      "\u001b[1;32m     15\u001b[0m \u001b[39mwhile\u001b[39;00m start_date \u001b[39m<\u001b[39m\u001b[39m=\u001b[39m end_date:\n",
      "\n",
      "\u001b[0;31mAttributeError\u001b[0m: 'WebDriver' object has no attribute 'find_element_by_class_name'"
     ]
    }
   ],
   "source": [
    "# 2012-01-01부터 2022-10-31까지 반복\n",
    "# -> 대분류에 대해 반복 -> 중분류에 대해 반복\n",
    "# 소분류, 도매시장, 도매 법인은 전부 전체로 체크하고 조회\n",
    "# 품목(품종), 규격(전체), 등급, 경락가, 거래량, 산지 크롤링\n",
    "\n",
    "start = \"2012.01.01.\"\n",
    "end = \"2022.10.31.\"\n",
    "\n",
    "start_date = datetime.strptime(start, \"%Y.%m.%d.\")\n",
    "end_date = datetime.strptime(end, \"%Y.%m.%d.\")\n",
    "\n",
    "timebox = browser.find_element_by_class_name(\"dateCon2\")\n",
    "timebox.click()\n",
    "\n",
    "while start_date <= end_date:\n",
    "    dates = start_date.strftime(\"%Y.%m.%d.\")\n",
    "    \n",
    "    # 날짜 입력\n",
    "    \n",
    "\n",
    "    start_date += timedelta(days=1)"
   ]
  },
  {
   "cell_type": "markdown",
   "metadata": {},
   "source": [
    "# Close"
   ]
  },
  {
   "cell_type": "code",
   "execution_count": null,
   "metadata": {},
   "outputs": [],
   "source": [
    "browser.close()"
   ]
  }
 ],
 "metadata": {
  "kernelspec": {
   "display_name": "Python 3",
   "language": "python",
   "name": "python3"
  },
  "language_info": {
   "name": "python",
   "version": "3.10.7 (main, Sep 14 2022, 22:38:23) [Clang 14.0.0 (clang-1400.0.29.102)]"
  },
  "orig_nbformat": 4,
  "vscode": {
   "interpreter": {
    "hash": "b0fa6594d8f4cbf19f97940f81e996739fb7646882a419484c72d19e05852a7e"
   }
  }
 },
 "nbformat": 4,
 "nbformat_minor": 2
}
