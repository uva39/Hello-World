{
 "cells": [
  {
   "cell_type": "markdown",
   "metadata": {},
   "source": [
    "## 미리 요약   \n",
    "a.index(min(a)) + 1 행이 아무리 O(N)이라고 해도, 실제 실행 시간은 매우 짧다. 그러니 마음껏 쓰면 좋을 것 같음. 어차피 argmax, argmin을 O(N)보다 빠르게 구해야하는 경우는 거의 존재하지 않기도 하구"
   ]
  },
  {
   "cell_type": "code",
   "execution_count": 1,
   "metadata": {},
   "outputs": [
    {
     "name": "stdout",
     "output_type": "stream",
     "text": [
      "19999 elapsed \n",
      "5.995178994140588\n",
      "5.890625\n",
      "6.101648005889729\n",
      "5.890625\n"
     ]
    }
   ],
   "source": [
    "from random import randint\n",
    "import time\n",
    "n = 100\n",
    "m = 1000\n",
    "time_sumr1 = 0\n",
    "time_sump1 = 0\n",
    "time_sumr2 = 0\n",
    "time_sump2 = 0\n",
    "\n",
    "def elapsed(f):\n",
    "    def wrap(*args):\n",
    "        global time_sump1\n",
    "        global time_sumr1\n",
    "        global time_sump2\n",
    "        global time_sumr2\n",
    "        start_r = time.perf_counter()\n",
    "        start_p = time.process_time()\n",
    "        # 함수 실행\n",
    "        ret = f(*args)\n",
    "        end_r = time.perf_counter()\n",
    "        end_p = time.process_time()\n",
    "        elapsed_r = end_r - start_r\n",
    "        elapsed_p = end_p - start_p\n",
    "\n",
    "        # print(f'{f.__name__} elapsed: {elapsed_r:.6g}sec (real) / {elapsed_p:.6g}sec (cpu)')\n",
    "        if f.__name__ == 'f1':\n",
    "            time_sumr1 += elapsed_r\n",
    "            time_sump1 += elapsed_p\n",
    "        else:\n",
    "            time_sumr2 += elapsed_r\n",
    "            time_sump2 += elapsed_p\n",
    "\n",
    "        return ret\n",
    "   # 함수 객체를 return\n",
    "    return wrap\n",
    "\n",
    "@elapsed\n",
    "def f1():\n",
    "    a = [randint(1, n) for _ in range(m)]\n",
    "    return a\n",
    "\n",
    "@elapsed\n",
    "def f2():\n",
    "    a = [randint(1, n) for _ in range(m)]\n",
    "    return a.index(min(a)) + 1\n",
    "\n",
    "for i in range(20000):\n",
    "    f1()\n",
    "    f2()\n",
    "    print(f\"\\r{i} elapsed \", end='')\n",
    "print()\n",
    "print(time_sumr1)\n",
    "print(time_sump1)\n",
    "print(time_sumr2)\n",
    "print(time_sump2)"
   ]
  }
 ],
 "metadata": {
  "kernelspec": {
   "display_name": "Python 3.10.7 64-bit",
   "language": "python",
   "name": "python3"
  },
  "language_info": {
   "codemirror_mode": {
    "name": "ipython",
    "version": 3
   },
   "file_extension": ".py",
   "mimetype": "text/x-python",
   "name": "python",
   "nbconvert_exporter": "python",
   "pygments_lexer": "ipython3",
   "version": "3.10.7"
  },
  "orig_nbformat": 4,
  "vscode": {
   "interpreter": {
    "hash": "21296890ed30beda34826074664c572761cdb09121e335e8a6831529b6333bf5"
   }
  }
 },
 "nbformat": 4,
 "nbformat_minor": 2
}
