{
 "cells": [
  {
   "cell_type": "markdown",
   "metadata": {},
   "source": [
    "# Import"
   ]
  },
  {
   "cell_type": "code",
   "execution_count": 1,
   "metadata": {},
   "outputs": [],
   "source": [
    "import numpy as np\n",
    "import pandas as pd"
   ]
  },
  {
   "cell_type": "markdown",
   "metadata": {},
   "source": [
    "# 배열 정보 확인"
   ]
  },
  {
   "cell_type": "code",
   "execution_count": 2,
   "metadata": {},
   "outputs": [
    {
     "name": "stdout",
     "output_type": "stream",
     "text": [
      "[1 2 3 4 5]\n",
      "<class 'numpy.ndarray'>\n",
      "(5,)\n",
      "1\n",
      "int64\n",
      "5\n",
      "8\n"
     ]
    }
   ],
   "source": [
    "a1 = np.array([1, 2, 3, 4, 5])\n",
    "print(a1)\n",
    "print(type(a1))\n",
    "print(a1.shape)\n",
    "print(a1.ndim)\n",
    "print(a1.dtype)\n",
    "print(a1.size)\n",
    "print(a1.itemsize)"
   ]
  },
  {
   "cell_type": "code",
   "execution_count": 3,
   "metadata": {},
   "outputs": [
    {
     "name": "stdout",
     "output_type": "stream",
     "text": [
      "[[ 1  2  3]\n",
      " [ 4  5  6]\n",
      " [ 7  8  9]\n",
      " [10 11 12]]\n",
      "(4, 3)\n",
      "1 6 9\n",
      "2\n",
      "int64\n",
      "12\n",
      "8\n"
     ]
    }
   ],
   "source": [
    "a2 = np.array([[1, 2, 3], [4, 5, 6], [7, 8, 9], [10, 11, 12]])\n",
    "print(a2)\n",
    "print(a2.shape)\n",
    "print(a2[0, 0], a2[1, 2], a2[2, 2])\n",
    "print(a2.ndim)\n",
    "print(a2.dtype)\n",
    "print(a2.size)\n",
    "print(a2.itemsize)"
   ]
  },
  {
   "cell_type": "markdown",
   "metadata": {},
   "source": [
    "# 특수 배열 생성"
   ]
  },
  {
   "cell_type": "code",
   "execution_count": 4,
   "metadata": {},
   "outputs": [
    {
     "name": "stdout",
     "output_type": "stream",
     "text": [
      "[0. 0. 0. 0. 0. 0. 0. 0. 0. 0.]\n",
      "[1. 1. 1. 1. 1. 1. 1. 1. 1. 1.]\n"
     ]
    }
   ],
   "source": [
    "print(np.zeros(10))\n",
    "print(np.ones(10))"
   ]
  },
  {
   "cell_type": "code",
   "execution_count": 5,
   "metadata": {},
   "outputs": [
    {
     "name": "stdout",
     "output_type": "stream",
     "text": [
      "[[1. 1. 1.]\n",
      " [1. 1. 1.]\n",
      " [1. 1. 1.]]\n",
      "[[3.14 3.14 3.14]\n",
      " [3.14 3.14 3.14]\n",
      " [3.14 3.14 3.14]]\n"
     ]
    }
   ],
   "source": [
    "print(np.ones((3, 3)))\n",
    "print(np.full((3, 3), 3.14)) # fill with 3.14"
   ]
  },
  {
   "cell_type": "code",
   "execution_count": 6,
   "metadata": {},
   "outputs": [
    {
     "name": "stdout",
     "output_type": "stream",
     "text": [
      "[[1. 0. 0.]\n",
      " [0. 1. 0.]\n",
      " [0. 0. 1.]]\n",
      "[[1. 0. 0.]\n",
      " [1. 1. 0.]\n",
      " [1. 1. 1.]]\n",
      "[1. 1. 1. 1. 1. 1. 1. 1. 1. 1.]\n"
     ]
    }
   ],
   "source": [
    "print(np.eye(3)) # Identity matrix\n",
    "print(np.tri(3)) # Lower triangular matrix\n",
    "print(np.empty(10)) # uninitialized array. faster than np.zeros"
   ]
  },
  {
   "cell_type": "code",
   "execution_count": 7,
   "metadata": {},
   "outputs": [
    {
     "name": "stdout",
     "output_type": "stream",
     "text": [
      "[1 2 3 4 5]\n",
      "[0 0 0 0 0]\n",
      "[[ 1  2  3]\n",
      " [ 4  5  6]\n",
      " [ 7  8  9]\n",
      " [10 11 12]]\n",
      "[[1 1 1]\n",
      " [1 1 1]\n",
      " [1 1 1]\n",
      " [1 1 1]]\n"
     ]
    }
   ],
   "source": [
    "print(a1)\n",
    "print(np.zeros_like(a1))\n",
    "print(a2)\n",
    "print(np.ones_like(a2))"
   ]
  },
  {
   "cell_type": "code",
   "execution_count": 8,
   "metadata": {},
   "outputs": [
    {
     "name": "stdout",
     "output_type": "stream",
     "text": [
      "[ 0  2  4  6  8 10 12 14 16 18 20 22 24 26 28]\n",
      "[0.   0.25 0.5  0.75 1.  ]\n",
      "[1.e+01 1.e+02 1.e+03 1.e+04 1.e+05]\n",
      "[1 2 3 4 5]\n"
     ]
    }
   ],
   "source": [
    "print(np.arange(0, 30, 2)) # start, end, step\n",
    "print(np.linspace(0, 1, 5)) # 5 numbers from 0 to 1\n",
    "print(np.logspace(1, 5, 5)) # 10^1, 10^2, 10^3, 10^4, 10^5\n",
    "\n",
    "print(a1.astype(np.int64))"
   ]
  },
  {
   "cell_type": "markdown",
   "metadata": {},
   "source": [
    "# 랜덤 배열 생성"
   ]
  },
  {
   "cell_type": "code",
   "execution_count": 9,
   "metadata": {},
   "outputs": [
    {
     "name": "stdout",
     "output_type": "stream",
     "text": [
      "[[0.95240739 0.59275406 0.80246441]\n",
      " [0.9473915  0.55325548 0.87415295]\n",
      " [0.92763191 0.52618009 0.41852187]]\n",
      "[[5 1 5]\n",
      " [8 7 2]\n",
      " [0 9 8]]\n",
      "[[-0.56378952 -0.65589458 -0.72453763]\n",
      " [-0.647676    2.56396803  1.03612659]\n",
      " [ 1.27934173  0.14206992  1.28410583]]\n",
      "[[-1.14754663 -0.28997106  0.01031383]\n",
      " [ 0.89927599 -0.49320516  1.52021204]\n",
      " [-0.20507256 -0.39683909 -1.26806269]]\n",
      "[[ 0.89221811 -1.17820632 -0.49611002]\n",
      " [-2.13862114  0.34102486 -1.73090844]\n",
      " [-0.7186544  -0.18680428 -0.56880947]]\n"
     ]
    }
   ],
   "source": [
    "print(np.random.random((3, 3))) # uniform distribution\n",
    "print(np.random.randint(0, 10, (3, 3))) # uniform distribution\n",
    "print(np.random.normal(0, 1, (3, 3))) # normal distribution\n",
    "print(np.random.randn(3, 3)) # uniform distribution\n",
    "print(np.random.randn(3, 3)) # standard normal distribution"
   ]
  },
  {
   "cell_type": "markdown",
   "metadata": {},
   "source": [
    "# 배열 수정"
   ]
  },
  {
   "cell_type": "code",
   "execution_count": 10,
   "metadata": {},
   "outputs": [
    {
     "name": "stdout",
     "output_type": "stream",
     "text": [
      "[[ 1  4  7 10]\n",
      " [ 2  5  8 11]\n",
      " [ 3  6  9 12]]\n",
      "[[ 1  4  7 10]\n",
      " [ 2  5  8 11]\n",
      " [ 3  6  9 12]]\n"
     ]
    }
   ],
   "source": [
    "print(a2.T) # transpose\n",
    "print(a2.swapaxes(0, 1)) # swap axes"
   ]
  },
  {
   "cell_type": "code",
   "execution_count": 11,
   "metadata": {},
   "outputs": [
    {
     "name": "stdout",
     "output_type": "stream",
     "text": [
      "[1 2 3 4 5]\n"
     ]
    },
    {
     "data": {
      "text/plain": [
       "array([ 1,  2,  3,  4,  5, 10])"
      ]
     },
     "execution_count": 11,
     "metadata": {},
     "output_type": "execute_result"
    }
   ],
   "source": [
    "print(a1)\n",
    "a1 = np.insert(a1, 5, 10)\n",
    "a1"
   ]
  },
  {
   "cell_type": "code",
   "execution_count": 12,
   "metadata": {},
   "outputs": [
    {
     "data": {
      "text/plain": [
       "array([[ 1,  2,  3],\n",
       "       [ 4,  5, 10]])"
      ]
     },
     "execution_count": 12,
     "metadata": {},
     "output_type": "execute_result"
    }
   ],
   "source": [
    "a1.reshape(2, 3)"
   ]
  },
  {
   "cell_type": "code",
   "execution_count": 13,
   "metadata": {},
   "outputs": [
    {
     "name": "stdout",
     "output_type": "stream",
     "text": [
      "[[ 1  2]\n",
      " [ 3  4]\n",
      " [ 5 10]]\n"
     ]
    }
   ],
   "source": [
    "a1.resize(3, 2) # resize is in-placed.\n",
    "print(a1)"
   ]
  },
  {
   "cell_type": "markdown",
   "metadata": {},
   "source": [
    "# 배열 인덱싱, 슬라이싱"
   ]
  },
  {
   "cell_type": "code",
   "execution_count": 14,
   "metadata": {},
   "outputs": [
    {
     "data": {
      "text/plain": [
       "array([[[1, 2, 3],\n",
       "        [4, 5, 6],\n",
       "        [7, 8, 9]],\n",
       "\n",
       "       [[1, 2, 3],\n",
       "        [4, 5, 6],\n",
       "        [7, 8, 9]],\n",
       "\n",
       "       [[1, 2, 3],\n",
       "        [4, 5, 6],\n",
       "        [7, 8, 9]]])"
      ]
     },
     "execution_count": 14,
     "metadata": {},
     "output_type": "execute_result"
    }
   ],
   "source": [
    "a3 = np.array([[[1, 2, 3], [4, 5, 6], [7, 8, 9]],\n",
    "               [[1, 2, 3], [4, 5, 6], [7, 8, 9]],\n",
    "               [[1, 2, 3], [4, 5, 6], [7, 8, 9]]])\n",
    "a3"
   ]
  },
  {
   "cell_type": "code",
   "execution_count": 15,
   "metadata": {},
   "outputs": [
    {
     "name": "stdout",
     "output_type": "stream",
     "text": [
      "9\n",
      "6\n"
     ]
    }
   ],
   "source": [
    "print(a3[2, 2, 2])\n",
    "print(a3[1, 1, -1])"
   ]
  },
  {
   "cell_type": "code",
   "execution_count": 16,
   "metadata": {},
   "outputs": [
    {
     "name": "stdout",
     "output_type": "stream",
     "text": [
      "[[ 1  2  3]\n",
      " [ 4  5  6]\n",
      " [ 7  8  9]\n",
      " [10 11 12]]\n",
      "[4 5 6]\n",
      "[5 6]\n"
     ]
    }
   ],
   "source": [
    "print(a2)\n",
    "print(a2[1])\n",
    "print(a2[1, 1:])"
   ]
  },
  {
   "cell_type": "code",
   "execution_count": 17,
   "metadata": {},
   "outputs": [
    {
     "name": "stdout",
     "output_type": "stream",
     "text": [
      "[[1 2]\n",
      " [4 5]]\n",
      "[[3 2 1]\n",
      " [6 5 4]]\n"
     ]
    }
   ],
   "source": [
    "print(a2[:2, :2])\n",
    "print(a2[:2, ::-1])"
   ]
  },
  {
   "cell_type": "code",
   "execution_count": 18,
   "metadata": {},
   "outputs": [
    {
     "name": "stdout",
     "output_type": "stream",
     "text": [
      "[1 2 3 4 5]\n",
      "[1 3 5]\n",
      "[1 3]\n"
     ]
    }
   ],
   "source": [
    "a1 = np.array([1, 2, 3, 4, 5])\n",
    "print(a1)\n",
    "bi = [True, False, True, False, True]\n",
    "print(a1[bi]) # boolean indexing\n",
    "\n",
    "fi = [0, 2]\n",
    "print(a1[fi]) # fancy indexing\n",
    "# slicing의 step보다 자유도가 높은 방법"
   ]
  },
  {
   "cell_type": "markdown",
   "metadata": {},
   "source": [
    "# 배열 원소 삭제"
   ]
  },
  {
   "cell_type": "code",
   "execution_count": 19,
   "metadata": {},
   "outputs": [
    {
     "name": "stdout",
     "output_type": "stream",
     "text": [
      "[1 2 3 4 5]\n",
      "[1 3 4 5]\n"
     ]
    }
   ],
   "source": [
    "print(a1)\n",
    "b1 = np.delete(a1, 1)\n",
    "print(b1)"
   ]
  },
  {
   "cell_type": "code",
   "execution_count": 20,
   "metadata": {},
   "outputs": [
    {
     "name": "stdout",
     "output_type": "stream",
     "text": [
      "[[ 1  2  3]\n",
      " [ 4  5  6]\n",
      " [ 7  8  9]\n",
      " [10 11 12]]\n"
     ]
    }
   ],
   "source": [
    "print(a2)"
   ]
  },
  {
   "cell_type": "code",
   "execution_count": 21,
   "metadata": {},
   "outputs": [
    {
     "name": "stdout",
     "output_type": "stream",
     "text": [
      "[[ 1  2  3]\n",
      " [ 7  8  9]\n",
      " [10 11 12]]\n"
     ]
    }
   ],
   "source": [
    "b1 = np.delete(a2, 1, axis=0)\n",
    "print(b1)"
   ]
  },
  {
   "cell_type": "code",
   "execution_count": 22,
   "metadata": {},
   "outputs": [
    {
     "name": "stdout",
     "output_type": "stream",
     "text": [
      "[[ 1  3]\n",
      " [ 4  6]\n",
      " [ 7  9]\n",
      " [10 12]]\n"
     ]
    }
   ],
   "source": [
    "b1 = np.delete(a2, 1, axis=1)\n",
    "print(b1)"
   ]
  },
  {
   "cell_type": "markdown",
   "metadata": {},
   "source": [
    "# 배열 복사"
   ]
  },
  {
   "cell_type": "code",
   "execution_count": 23,
   "metadata": {},
   "outputs": [
    {
     "name": "stdout",
     "output_type": "stream",
     "text": [
      "[2 3]\n",
      "[100   3]\n",
      "[  1 100   3   4]\n"
     ]
    }
   ],
   "source": [
    "a = np.array([1, 2, 3, 4])\n",
    "b = a[1:3]\n",
    "print(b)\n",
    "b[0] = 100\n",
    "print(b)\n",
    "print(a) \n",
    "# 중요: Numpy Array의 slicing은 copy가 안됨"
   ]
  },
  {
   "cell_type": "code",
   "execution_count": 24,
   "metadata": {},
   "outputs": [
    {
     "name": "stdout",
     "output_type": "stream",
     "text": [
      "[2 3]\n",
      "[100   3]\n",
      "[1 2 3 4]\n"
     ]
    }
   ],
   "source": [
    "a = np.array([1, 2, 3, 4])\n",
    "b = a[1:3].copy()\n",
    "print(b)\n",
    "b[0] = 100\n",
    "print(b)\n",
    "print(a)"
   ]
  },
  {
   "cell_type": "markdown",
   "metadata": {},
   "source": [
    "# 배열 수정2"
   ]
  },
  {
   "cell_type": "code",
   "execution_count": 25,
   "metadata": {},
   "outputs": [],
   "source": [
    "a2 = np.arange(1, 10).reshape(3, 3)\n",
    "b2 = np.arange(11, 20).reshape(3, 3)"
   ]
  },
  {
   "cell_type": "code",
   "execution_count": 26,
   "metadata": {},
   "outputs": [
    {
     "data": {
      "text/plain": [
       "array([[1, 2, 3],\n",
       "       [4, 5, 6],\n",
       "       [7, 8, 9]])"
      ]
     },
     "execution_count": 26,
     "metadata": {},
     "output_type": "execute_result"
    }
   ],
   "source": [
    "a2"
   ]
  },
  {
   "cell_type": "code",
   "execution_count": 27,
   "metadata": {},
   "outputs": [
    {
     "data": {
      "text/plain": [
       "array([[11, 12, 13],\n",
       "       [14, 15, 16],\n",
       "       [17, 18, 19]])"
      ]
     },
     "execution_count": 27,
     "metadata": {},
     "output_type": "execute_result"
    }
   ],
   "source": [
    "b2"
   ]
  },
  {
   "cell_type": "code",
   "execution_count": 28,
   "metadata": {},
   "outputs": [
    {
     "data": {
      "text/plain": [
       "array([ 1,  2,  3,  4,  5,  6,  7,  8,  9, 11, 12, 13, 14, 15, 16, 17, 18,\n",
       "       19])"
      ]
     },
     "execution_count": 28,
     "metadata": {},
     "output_type": "execute_result"
    }
   ],
   "source": [
    "c2 = np.append(a2, b2)\n",
    "c2"
   ]
  },
  {
   "cell_type": "code",
   "execution_count": 29,
   "metadata": {},
   "outputs": [
    {
     "data": {
      "text/plain": [
       "array([[ 1,  2,  3],\n",
       "       [ 4,  5,  6],\n",
       "       [ 7,  8,  9],\n",
       "       [11, 12, 13],\n",
       "       [14, 15, 16],\n",
       "       [17, 18, 19]])"
      ]
     },
     "execution_count": 29,
     "metadata": {},
     "output_type": "execute_result"
    }
   ],
   "source": [
    "c2 = np.append(a2, b2, axis=0)\n",
    "c2"
   ]
  },
  {
   "cell_type": "code",
   "execution_count": 30,
   "metadata": {},
   "outputs": [
    {
     "data": {
      "text/plain": [
       "array([[ 1,  2,  3, 11, 12, 13],\n",
       "       [ 4,  5,  6, 14, 15, 16],\n",
       "       [ 7,  8,  9, 17, 18, 19]])"
      ]
     },
     "execution_count": 30,
     "metadata": {},
     "output_type": "execute_result"
    }
   ],
   "source": [
    "c2 = np.append(a2, b2, axis=1)\n",
    "c2"
   ]
  },
  {
   "cell_type": "code",
   "execution_count": 31,
   "metadata": {},
   "outputs": [
    {
     "data": {
      "text/plain": [
       "array([[ 1,  2,  3],\n",
       "       [ 4,  5,  6],\n",
       "       [ 7,  8,  9],\n",
       "       [11, 12, 13],\n",
       "       [14, 15, 16],\n",
       "       [17, 18, 19]])"
      ]
     },
     "execution_count": 31,
     "metadata": {},
     "output_type": "execute_result"
    }
   ],
   "source": [
    "np.vstack([a2, b2])"
   ]
  },
  {
   "cell_type": "code",
   "execution_count": 32,
   "metadata": {},
   "outputs": [
    {
     "data": {
      "text/plain": [
       "array([[ 1,  2,  3, 11, 12, 13],\n",
       "       [ 4,  5,  6, 14, 15, 16],\n",
       "       [ 7,  8,  9, 17, 18, 19]])"
      ]
     },
     "execution_count": 32,
     "metadata": {},
     "output_type": "execute_result"
    }
   ],
   "source": [
    "np.hstack([a2, b2])"
   ]
  },
  {
   "cell_type": "code",
   "execution_count": 33,
   "metadata": {},
   "outputs": [
    {
     "data": {
      "text/plain": [
       "array([1, 2, 3, 4, 5])"
      ]
     },
     "execution_count": 33,
     "metadata": {},
     "output_type": "execute_result"
    }
   ],
   "source": [
    "a1"
   ]
  },
  {
   "cell_type": "code",
   "execution_count": 34,
   "metadata": {},
   "outputs": [
    {
     "data": {
      "text/plain": [
       "(array([1, 2]), array([3, 4, 5]))"
      ]
     },
     "execution_count": 34,
     "metadata": {},
     "output_type": "execute_result"
    }
   ],
   "source": [
    "b1, c1 = np.split(a1, [2])\n",
    "b1, c1"
   ]
  },
  {
   "cell_type": "code",
   "execution_count": 35,
   "metadata": {},
   "outputs": [
    {
     "data": {
      "text/plain": [
       "array([[1, 2, 3],\n",
       "       [4, 5, 6],\n",
       "       [7, 8, 9]])"
      ]
     },
     "execution_count": 35,
     "metadata": {},
     "output_type": "execute_result"
    }
   ],
   "source": [
    "a2"
   ]
  },
  {
   "cell_type": "code",
   "execution_count": 36,
   "metadata": {},
   "outputs": [
    {
     "data": {
      "text/plain": [
       "(array([[1, 2, 3],\n",
       "        [4, 5, 6]]),\n",
       " array([[7, 8, 9]]))"
      ]
     },
     "execution_count": 36,
     "metadata": {},
     "output_type": "execute_result"
    }
   ],
   "source": [
    "b2, c2 = np.vsplit(a2, [2])\n",
    "b2, c2"
   ]
  },
  {
   "cell_type": "code",
   "execution_count": 37,
   "metadata": {},
   "outputs": [
    {
     "data": {
      "text/plain": [
       "(array([[1, 2],\n",
       "        [4, 5],\n",
       "        [7, 8]]),\n",
       " array([[3],\n",
       "        [6],\n",
       "        [9]]))"
      ]
     },
     "execution_count": 37,
     "metadata": {},
     "output_type": "execute_result"
    }
   ],
   "source": [
    "b2, c2 = np.hsplit(a2, [2])\n",
    "b2, c2"
   ]
  },
  {
   "cell_type": "markdown",
   "metadata": {},
   "source": [
    "# Brodcasting"
   ]
  },
  {
   "cell_type": "code",
   "execution_count": 38,
   "metadata": {},
   "outputs": [
    {
     "data": {
      "text/plain": [
       "array([2, 4, 6])"
      ]
     },
     "execution_count": 38,
     "metadata": {},
     "output_type": "execute_result"
    }
   ],
   "source": [
    "a = np.array([1, 2, 3])\n",
    "b = 2\n",
    "a * b"
   ]
  },
  {
   "cell_type": "code",
   "execution_count": 39,
   "metadata": {},
   "outputs": [
    {
     "data": {
      "text/plain": [
       "array([[ 1,  2,  3],\n",
       "       [11, 12, 13],\n",
       "       [21, 22, 23],\n",
       "       [31, 32, 33]])"
      ]
     },
     "execution_count": 39,
     "metadata": {},
     "output_type": "execute_result"
    }
   ],
   "source": [
    "a = np.array([[0, 0, 0],\n",
    "              [10, 10, 10],\n",
    "              [20, 20, 20],\n",
    "              [30, 30, 30]])\n",
    "b = np.array([1, 2, 3])\n",
    "a + b"
   ]
  },
  {
   "cell_type": "code",
   "execution_count": 40,
   "metadata": {},
   "outputs": [
    {
     "data": {
      "text/plain": [
       "array([[ 1,  2,  3],\n",
       "       [11, 12, 13],\n",
       "       [21, 22, 23],\n",
       "       [41, 42, 43]])"
      ]
     },
     "execution_count": 40,
     "metadata": {},
     "output_type": "execute_result"
    }
   ],
   "source": [
    "a = np.array([0, 10, 20, 40]).reshape(4, 1)\n",
    "b = np.array([1, 2, 3])\n",
    "a + b"
   ]
  },
  {
   "cell_type": "markdown",
   "metadata": {},
   "source": [
    "# 산술"
   ]
  },
  {
   "cell_type": "code",
   "execution_count": 41,
   "metadata": {},
   "outputs": [
    {
     "name": "stdout",
     "output_type": "stream",
     "text": [
      "[1 3]\n",
      "[2 4]\n",
      "[0 2]\n",
      "[-1 -3]\n",
      "[2 6]\n",
      "[0.5 1.5]\n",
      "[1 1]\n",
      "[0 1]\n",
      "[1 9]\n"
     ]
    }
   ],
   "source": [
    "a1 = np.array([1, 3])\n",
    "print(a1)\n",
    "print(np.add(a1, 1))\n",
    "print(np.subtract(a1, 1))\n",
    "print(np.negative(a1))\n",
    "print(np.multiply(a1, 2))\n",
    "print(np.divide(a1, 2))\n",
    "print(np.mod(a1, 2))\n",
    "print(np.floor_divide(a1, 2))\n",
    "print(np.power(a1, 2))"
   ]
  },
  {
   "cell_type": "markdown",
   "metadata": {},
   "source": [
    "# 절대값"
   ]
  },
  {
   "cell_type": "code",
   "execution_count": 42,
   "metadata": {},
   "outputs": [
    {
     "name": "stdout",
     "output_type": "stream",
     "text": [
      "[1 2 3 4]\n",
      "[1 2 3 4]\n"
     ]
    }
   ],
   "source": [
    "a1 = np.array([1, -2, 3, -4])\n",
    "print(np.absolute(a1))\n",
    "print(np.abs(a1))"
   ]
  },
  {
   "cell_type": "markdown",
   "metadata": {},
   "source": [
    "# 지수, 로그함수"
   ]
  },
  {
   "cell_type": "code",
   "execution_count": 43,
   "metadata": {},
   "outputs": [
    {
     "name": "stdout",
     "output_type": "stream",
     "text": [
      "[ 1  4  9 16]\n",
      "[1.         1.41421356 1.73205081 2.        ]\n",
      "[ 1  8 27 64]\n",
      "[ 2.71828183  7.3890561  20.08553692 54.59815003]\n",
      "[ 2.  4.  8. 16.]\n",
      "[0.         0.69314718 1.09861229 1.38629436]\n",
      "[0.        1.        1.5849625 2.       ]\n",
      "[0.         0.30103    0.47712125 0.60205999]\n"
     ]
    }
   ],
   "source": [
    "a1 = np.array([1, 2, 3, 4])\n",
    "print(np.square(a1))\n",
    "print(np.sqrt(a1))\n",
    "print(np.power(a1, 3))\n",
    "print(np.exp(a1))\n",
    "print(np.exp2(a1))\n",
    "print(np.log(a1))\n",
    "print(np.log2(a1))\n",
    "print(np.log10(a1))"
   ]
  },
  {
   "cell_type": "markdown",
   "metadata": {},
   "source": [
    "# 삼각함수"
   ]
  },
  {
   "cell_type": "code",
   "execution_count": 44,
   "metadata": {},
   "outputs": [
    {
     "name": "stdout",
     "output_type": "stream",
     "text": [
      "0.7853981633974483\n",
      "45.0\n",
      "[0.         0.84147098 0.90929743 0.14112001 0.70710678]\n",
      "[ 1.          0.54030231 -0.41614684 -0.9899925   0.70710678]\n",
      "[ 0.          1.55740772 -2.18503986 -0.14254654  1.        ]\n",
      "[0.         0.78539816 1.10714872 1.24904577 0.66577375]\n"
     ]
    }
   ],
   "source": [
    "t = np.deg2rad(45)\n",
    "print(t)\n",
    "print(np.rad2deg(t))\n",
    "a1 = np.array([0, 1, 2, 3, t])\n",
    "print(np.sin(a1))\n",
    "print(np.cos(a1))\n",
    "print(np.tan(a1))\n",
    "print(np.arctan(a1))"
   ]
  },
  {
   "cell_type": "markdown",
   "metadata": {},
   "source": [
    "# 집계 함수"
   ]
  },
  {
   "cell_type": "code",
   "execution_count": 45,
   "metadata": {},
   "outputs": [
    {
     "name": "stdout",
     "output_type": "stream",
     "text": [
      "10 10\n",
      "[4 6] [4 6]\n",
      "[3 7] [3 7]\n"
     ]
    }
   ],
   "source": [
    "a1 = np.array([[1, 2], [3, 4]])\n",
    "print(a1.sum(), np.sum(a1))\n",
    "print(a1.sum(axis=0), np.sum(a1, axis=0)) # column\n",
    "print(a1.sum(axis=1), np.sum(a1, axis=1)) # row\n"
   ]
  },
  {
   "cell_type": "code",
   "execution_count": 46,
   "metadata": {},
   "outputs": [
    {
     "name": "stdout",
     "output_type": "stream",
     "text": [
      "[ 1  3  6 10]\n",
      "[[1 2]\n",
      " [4 6]]\n",
      "[[1 3]\n",
      " [3 7]]\n"
     ]
    }
   ],
   "source": [
    "\n",
    "print(np.cumsum(a1)) # cumulative sum\n",
    "print(np.cumsum(a1, axis=0))\n",
    "print(np.cumsum(a1, axis=1))\n"
   ]
  },
  {
   "cell_type": "code",
   "execution_count": 47,
   "metadata": {},
   "outputs": [
    {
     "name": "stdout",
     "output_type": "stream",
     "text": [
      "[[ 2  7]\n",
      " [ 7 -6]\n",
      " [-2 95]]\n",
      "37800000\n",
      "[       1        3       30      150     1800    10800    75600   378000\n",
      " 37800000]\n",
      "[[ 14  14  14]\n",
      " [ 23  23  23]\n",
      " [112 112 112]]\n"
     ]
    }
   ],
   "source": [
    "\n",
    "a1 = np.array([[1, 3, 10], [5, 12, 6], [7, 5, 100]])\n",
    "print(np.diff(a1))\n",
    "print(np.prod(a1))\n",
    "print(np.cumprod(a1))\n",
    "b1 = np.ones_like(a1)\n",
    "print(np.dot(a1, b1))\n"
   ]
  },
  {
   "cell_type": "code",
   "execution_count": 48,
   "metadata": {},
   "outputs": [
    {
     "name": "stdout",
     "output_type": "stream",
     "text": [
      "16.555555555555557\n",
      "6.0\n",
      "16.555555555555557\n",
      "29.66895538404153\n",
      "880.246913580247\n",
      "1\n",
      "100\n",
      "0\n",
      "8\n"
     ]
    }
   ],
   "source": [
    "print(np.mean(a1))\n",
    "print(np.median(a1))\n",
    "print(np.average(a1))\n",
    "print(np.std(a1))\n",
    "print(np.var(a1))\n",
    "print(np.min(a1))\n",
    "print(np.max(a1))\n",
    "print(np.argmin(a1))\n",
    "print(np.argmax(a1))"
   ]
  },
  {
   "cell_type": "code",
   "execution_count": 49,
   "metadata": {},
   "outputs": [
    {
     "name": "stdout",
     "output_type": "stream",
     "text": [
      "[[False  True  True]\n",
      " [False  True False]\n",
      " [False False False]]\n",
      "True\n",
      "False\n",
      "[False False False]\n",
      "[False False False]\n",
      "[False  True  True]\n",
      "[ True  True False]\n"
     ]
    }
   ],
   "source": [
    "a1 = np.array([[False, True, True],\n",
    "               [False, True, False],\n",
    "               [False, False, False]])\n",
    "print(a1)\n",
    "print(np.any(a1))\n",
    "print(np.all(a1))\n",
    "\n",
    "print(np.all(a1, axis=0))\n",
    "print(np.all(a1, axis=1))\n",
    "\n",
    "print(np.any(a1, axis=0))\n",
    "print(np.any(a1, axis=1))"
   ]
  },
  {
   "cell_type": "markdown",
   "metadata": {},
   "source": [
    "# 비교"
   ]
  },
  {
   "cell_type": "code",
   "execution_count": 50,
   "metadata": {},
   "outputs": [
    {
     "name": "stdout",
     "output_type": "stream",
     "text": [
      "[1 2 3 4 5]\n",
      "[False  True False False False]\n",
      "[ True False  True  True  True]\n",
      "[False False  True  True  True]\n",
      "[False  True  True  True  True]\n",
      "[ True False False False False]\n",
      "[ True  True False False False]\n"
     ]
    }
   ],
   "source": [
    "a1 = np.array([1, 2, 3, 4, 5])\n",
    "print(a1)\n",
    "print(a1 == 2)\n",
    "print(a1 != 2)\n",
    "print(a1 > 2)\n",
    "print(a1 >= 2)\n",
    "print(a1 < 2)\n",
    "print(a1 <= 2)"
   ]
  },
  {
   "cell_type": "markdown",
   "metadata": {},
   "source": [
    "# Boolean"
   ]
  },
  {
   "cell_type": "code",
   "execution_count": 51,
   "metadata": {},
   "outputs": [
    {
     "name": "stdout",
     "output_type": "stream",
     "text": [
      "[[1 2 3]\n",
      " [4 5 6]\n",
      " [7 8 9]]\n",
      "[[False False  True]\n",
      " [ True  True  True]\n",
      " [False False False]]\n",
      "[3 4 5 6]\n",
      "[[ True  True  True]\n",
      " [ True  True  True]\n",
      " [ True  True  True]]\n",
      "[1 2 3 4 5 6 7 8 9]\n",
      "[[ True  True False]\n",
      " [False False False]\n",
      " [ True  True  True]]\n",
      "[1 2 7 8 9]\n",
      "[[ True  True False]\n",
      " [False False False]\n",
      " [False False False]]\n",
      "[1 2]\n"
     ]
    }
   ],
   "source": [
    "a1 = np.arange(1, 10).reshape(3, 3)\n",
    "print(a1)\n",
    "print((a1 > 2) & (a1 < 7))\n",
    "print(a1[(a1 > 2) & (a1 < 7)])\n",
    "\n",
    "print((a1 > 2) | (a1 < 7))\n",
    "print(a1[(a1 > 2) | (a1 < 7)])\n",
    "\n",
    "print((a1 > 2) ^ (a1 < 7))\n",
    "print(a1[(a1 > 2) ^ (a1 < 7)])\n",
    "\n",
    "print(~(a1 > 2))\n",
    "print(a1[~(a1 > 2)])"
   ]
  },
  {
   "cell_type": "markdown",
   "metadata": {},
   "source": [
    "# 정렬"
   ]
  },
  {
   "cell_type": "code",
   "execution_count": 52,
   "metadata": {},
   "outputs": [
    {
     "name": "stdout",
     "output_type": "stream",
     "text": [
      "[7 2 9 8 8 2 8 8 9 1]\n",
      "[1 2 2 7 8 8 8 8 9 9]\n",
      "[7 2 9 8 8 2 8 8 9 1]\n",
      "[9 1 5 0 3 4 6 7 2 8]\n",
      "None\n",
      "[1 2 2 7 8 8 8 8 9 9]\n"
     ]
    }
   ],
   "source": [
    "np.random.seed(20221186)\n",
    "a1 = np.random.randint(1, 10, size=10)\n",
    "\n",
    "print(a1)\n",
    "print(np.sort(a1)) # not inplace\n",
    "print(a1)\n",
    "print(np.argsort(a1))\n",
    "print(a1.sort()) # inplace\n",
    "print(a1)"
   ]
  },
  {
   "cell_type": "markdown",
   "metadata": {},
   "source": [
    "# 입출력"
   ]
  },
  {
   "cell_type": "code",
   "execution_count": 53,
   "metadata": {},
   "outputs": [
    {
     "name": "stdout",
     "output_type": "stream",
     "text": [
      "[7 9 6 4 7 8 1 5 6 8]\n",
      "[3 9 4 7 3 1 8 6 5 5]\n",
      "\u001b[34mAI\u001b[m\u001b[m                    H10_2.c               a.npy\n",
      "\u001b[31mC_NoteBook\u001b[m\u001b[m            JupyterNotebook.ipynb ab.npz\n",
      "C_NoteBook.c          NoteBook.hs           english_word.csv\n",
      "Cpp_NoteBook.cpp      NoteBook.py           in.txt\n",
      "FILE1.txt             \u001b[34mPS\u001b[m\u001b[m                    np_notebook.ipynb\n",
      "\u001b[31mH10_1\u001b[m\u001b[m                 README.md             pd_notebook.ipynb\n",
      "H10_1.c               \u001b[34mShocking-Things\u001b[m\u001b[m       tempCodeRunnerFile.py\n"
     ]
    }
   ],
   "source": [
    "a1 = np.random.randint(1, 10, size=10)\n",
    "b1 = np.random.randint(1, 10, size=10)\n",
    "\n",
    "print(a1)\n",
    "print(b1)\n",
    "\n",
    "np.save('a', a1)\n",
    "np.savez('ab', a1, b1)\n",
    "!ls"
   ]
  },
  {
   "cell_type": "code",
   "execution_count": 54,
   "metadata": {},
   "outputs": [
    {
     "name": "stdout",
     "output_type": "stream",
     "text": [
      "[7 9 6 4 7 8 1 5 6 8]\n",
      "<numpy.lib.npyio.NpzFile object at 0x1177929e0>\n",
      "['arr_0', 'arr_1']\n",
      "[7 9 6 4 7 8 1 5 6 8]\n",
      "[3 9 4 7 3 1 8 6 5 5]\n",
      "\u001b[34mAI\u001b[m\u001b[m                    JupyterNotebook.ipynb ab.npz\n",
      "\u001b[31mC_NoteBook\u001b[m\u001b[m            NoteBook.hs           english_word.csv\n",
      "C_NoteBook.c          NoteBook.py           in.txt\n",
      "Cpp_NoteBook.cpp      \u001b[34mPS\u001b[m\u001b[m                    np_notebook.ipynb\n",
      "FILE1.txt             README.md             pd_notebook.ipynb\n",
      "\u001b[31mH10_1\u001b[m\u001b[m                 \u001b[34mShocking-Things\u001b[m\u001b[m       tempCodeRunnerFile.py\n",
      "H10_1.c               a.csv\n",
      "H10_2.c               a.npy\n",
      "7.000000000000000000e+00\n",
      "9.000000000000000000e+00\n",
      "6.000000000000000000e+00\n",
      "4.000000000000000000e+00\n",
      "7.000000000000000000e+00\n",
      "8.000000000000000000e+00\n",
      "1.000000000000000000e+00\n",
      "5.000000000000000000e+00\n",
      "6.000000000000000000e+00\n",
      "8.000000000000000000e+00\n",
      "[7. 9. 6. 4. 7. 8. 1. 5. 6. 8.]\n"
     ]
    }
   ],
   "source": [
    "a2 = np.load('a.npy')\n",
    "print(a2)\n",
    "ab2 = np.load('ab.npz')\n",
    "\n",
    "print(ab2)\n",
    "print(ab2.files)\n",
    "\n",
    "print(ab2['arr_0'])\n",
    "print(ab2['arr_1'])\n",
    "\n",
    "np.savetxt('a.csv', a2, delimiter=',')\n",
    "!ls\n",
    "!cat a.csv\n",
    "csv = np.loadtxt('a.csv', delimiter=',')\n",
    "print(csv)"
   ]
  }
 ],
 "metadata": {
  "kernelspec": {
   "display_name": "Python 3",
   "language": "python",
   "name": "python3"
  },
  "language_info": {
   "codemirror_mode": {
    "name": "ipython",
    "version": 3
   },
   "file_extension": ".py",
   "mimetype": "text/x-python",
   "name": "python",
   "nbconvert_exporter": "python",
   "pygments_lexer": "ipython3",
   "version": "3.10.7"
  },
  "orig_nbformat": 4,
  "vscode": {
   "interpreter": {
    "hash": "b0fa6594d8f4cbf19f97940f81e996739fb7646882a419484c72d19e05852a7e"
   }
  }
 },
 "nbformat": 4,
 "nbformat_minor": 2
}
