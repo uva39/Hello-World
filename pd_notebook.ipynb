{
 "cells": [
  {
   "cell_type": "markdown",
   "metadata": {},
   "source": [
    "# Import"
   ]
  },
  {
   "cell_type": "code",
   "execution_count": 1,
   "metadata": {},
   "outputs": [],
   "source": [
    "import numpy as np\n",
    "import pandas as pd"
   ]
  },
  {
   "cell_type": "markdown",
   "metadata": {},
   "source": [
    "# Series"
   ]
  },
  {
   "cell_type": "code",
   "execution_count": 2,
   "metadata": {},
   "outputs": [
    {
     "data": {
      "text/plain": [
       "0    0.0\n",
       "1    1.0\n",
       "2    1.5\n",
       "3    2.0\n",
       "4    3.2\n",
       "dtype: float64"
      ]
     },
     "execution_count": 2,
     "metadata": {},
     "output_type": "execute_result"
    }
   ],
   "source": [
    "s = pd.Series([0, 1, 1.5, 2, 3.2])\n",
    "s"
   ]
  },
  {
   "cell_type": "code",
   "execution_count": 3,
   "metadata": {},
   "outputs": [
    {
     "name": "stdout",
     "output_type": "stream",
     "text": [
      "[0.  1.  1.5 2.  3.2]\n",
      "RangeIndex(start=0, stop=5, step=1)\n",
      "1.0\n",
      "1    1.0\n",
      "2    1.5\n",
      "3    2.0\n",
      "4    3.2\n",
      "dtype: float64\n",
      "0    False\n",
      "1    False\n",
      "2    False\n",
      "3     True\n",
      "4     True\n",
      "dtype: bool\n"
     ]
    }
   ],
   "source": [
    "print(s.values)\n",
    "print(s.index)\n",
    "print(s[1])\n",
    "print(s[1:5])\n",
    "print(s>1.6)"
   ]
  },
  {
   "cell_type": "code",
   "execution_count": 4,
   "metadata": {},
   "outputs": [
    {
     "data": {
      "text/plain": [
       "a    0.0\n",
       "b    1.0\n",
       "c    1.5\n",
       "d    2.0\n",
       "e    3.2\n",
       "dtype: float64"
      ]
     },
     "execution_count": 4,
     "metadata": {},
     "output_type": "execute_result"
    }
   ],
   "source": [
    "s = pd.Series([0, 1, 1.5, 2, 3.2], index=['a', 'b', 'c', 'd', 'e'])\n",
    "s"
   ]
  },
  {
   "cell_type": "code",
   "execution_count": 5,
   "metadata": {},
   "outputs": [
    {
     "name": "stdout",
     "output_type": "stream",
     "text": [
      "1.5\n",
      "b    1.0\n",
      "dtype: float64\n",
      "b    1.0\n",
      "c    1.5\n",
      "d    2.0\n",
      "e    3.2\n",
      "dtype: float64\n",
      "a    0.0\n",
      "c    1.5\n",
      "e    3.2\n",
      "dtype: float64\n",
      "True\n"
     ]
    }
   ],
   "source": [
    "print(s['c'])\n",
    "print(s[1:2])\n",
    "print(s['b':'e'])\n",
    "print(s[['a', 'c', 'e']])\n",
    "print('b' in s)"
   ]
  },
  {
   "cell_type": "code",
   "execution_count": 6,
   "metadata": {},
   "outputs": [
    {
     "data": {
      "text/plain": [
       "2     0.0\n",
       "4     1.0\n",
       "6     1.5\n",
       "8     2.0\n",
       "10    3.2\n",
       "12    2.0\n",
       "14    1.5\n",
       "dtype: float64"
      ]
     },
     "execution_count": 6,
     "metadata": {},
     "output_type": "execute_result"
    }
   ],
   "source": [
    "s = pd.Series([0, 1, 1.5, 2, 3.2, 2, 1.5], index=[2, 4, 6, 8, 10, 12, 14])\n",
    "s # 사용자 정의 인덱스"
   ]
  },
  {
   "cell_type": "code",
   "execution_count": 7,
   "metadata": {},
   "outputs": [
    {
     "name": "stdout",
     "output_type": "stream",
     "text": [
      "0.0\n",
      "6    1.5\n",
      "8    2.0\n",
      "dtype: float64\n",
      "[0.  1.  1.5 2.  3.2]\n",
      "1.5    2\n",
      "2.0    2\n",
      "0.0    1\n",
      "1.0    1\n",
      "3.2    1\n",
      "dtype: int64\n",
      "2     False\n",
      "4     False\n",
      "6      True\n",
      "8     False\n",
      "10    False\n",
      "12    False\n",
      "14     True\n",
      "dtype: bool\n"
     ]
    },
    {
     "name": "stderr",
     "output_type": "stream",
     "text": [
      "/var/folders/r3/7n1n1h3x3hvcyqd0xnpjm0lr0000gn/T/ipykernel_54502/2736431161.py:2: FutureWarning: The behavior of `series[i:j]` with an integer-dtype index is deprecated. In a future version, this will be treated as *label-based* indexing, consistent with e.g. `series[i]` lookups. To retain the old behavior, use `series.iloc[i:j]`. To get the future behavior, use `series.loc[i:j]`.\n",
      "  print(s[2:4])\n"
     ]
    }
   ],
   "source": [
    "print(s[2])\n",
    "print(s[2:4])\n",
    "print(s.unique())\n",
    "print(s.value_counts())\n",
    "print(s.isin([0.25, 1.5]))"
   ]
  },
  {
   "cell_type": "code",
   "execution_count": 8,
   "metadata": {},
   "outputs": [
    {
     "data": {
      "text/plain": [
       "사과     10\n",
       "배       5\n",
       "딸기     20\n",
       "바나나     3\n",
       "오렌지     8\n",
       "dtype: int64"
      ]
     },
     "execution_count": 8,
     "metadata": {},
     "output_type": "execute_result"
    }
   ],
   "source": [
    "fruit = {'사과': 10, '배': 5, '딸기': 20, '바나나': 3, '오렌지': 8}\n",
    "s = pd.Series(fruit)\n",
    "s"
   ]
  },
  {
   "cell_type": "code",
   "execution_count": 9,
   "metadata": {},
   "outputs": [
    {
     "data": {
      "text/plain": [
       "5"
      ]
     },
     "execution_count": 9,
     "metadata": {},
     "output_type": "execute_result"
    }
   ],
   "source": [
    "s['배']"
   ]
  },
  {
   "cell_type": "code",
   "execution_count": 10,
   "metadata": {},
   "outputs": [
    {
     "data": {
      "text/plain": [
       "배       5\n",
       "딸기     20\n",
       "바나나     3\n",
       "오렌지     8\n",
       "dtype: int64"
      ]
     },
     "execution_count": 10,
     "metadata": {},
     "output_type": "execute_result"
    }
   ],
   "source": [
    "s['배':'오렌지']"
   ]
  },
  {
   "cell_type": "markdown",
   "metadata": {},
   "source": [
    "# DataFrame"
   ]
  },
  {
   "cell_type": "code",
   "execution_count": 11,
   "metadata": {},
   "outputs": [
    {
     "data": {
      "text/html": [
       "<div>\n",
       "<style scoped>\n",
       "    .dataframe tbody tr th:only-of-type {\n",
       "        vertical-align: middle;\n",
       "    }\n",
       "\n",
       "    .dataframe tbody tr th {\n",
       "        vertical-align: top;\n",
       "    }\n",
       "\n",
       "    .dataframe thead th {\n",
       "        text-align: right;\n",
       "    }\n",
       "</style>\n",
       "<table border=\"1\" class=\"dataframe\">\n",
       "  <thead>\n",
       "    <tr style=\"text-align: right;\">\n",
       "      <th></th>\n",
       "      <th>A</th>\n",
       "      <th>B</th>\n",
       "      <th>D</th>\n",
       "      <th>C</th>\n",
       "    </tr>\n",
       "  </thead>\n",
       "  <tbody>\n",
       "    <tr>\n",
       "      <th>0</th>\n",
       "      <td>2</td>\n",
       "      <td>4</td>\n",
       "      <td>3.0</td>\n",
       "      <td>NaN</td>\n",
       "    </tr>\n",
       "    <tr>\n",
       "      <th>1</th>\n",
       "      <td>4</td>\n",
       "      <td>5</td>\n",
       "      <td>NaN</td>\n",
       "      <td>7.0</td>\n",
       "    </tr>\n",
       "  </tbody>\n",
       "</table>\n",
       "</div>"
      ],
      "text/plain": [
       "   A  B    D    C\n",
       "0  2  4  3.0  NaN\n",
       "1  4  5  NaN  7.0"
      ]
     },
     "execution_count": 11,
     "metadata": {},
     "output_type": "execute_result"
    }
   ],
   "source": [
    "df = pd.DataFrame([{'A':2, 'B':4, 'D':3}, {'A':4, 'B':5, 'C':7}])\n",
    "df"
   ]
  },
  {
   "cell_type": "code",
   "execution_count": 12,
   "metadata": {},
   "outputs": [
    {
     "data": {
      "text/html": [
       "<div>\n",
       "<style scoped>\n",
       "    .dataframe tbody tr th:only-of-type {\n",
       "        vertical-align: middle;\n",
       "    }\n",
       "\n",
       "    .dataframe tbody tr th {\n",
       "        vertical-align: top;\n",
       "    }\n",
       "\n",
       "    .dataframe thead th {\n",
       "        text-align: right;\n",
       "    }\n",
       "</style>\n",
       "<table border=\"1\" class=\"dataframe\">\n",
       "  <thead>\n",
       "    <tr style=\"text-align: right;\">\n",
       "      <th></th>\n",
       "      <th>A</th>\n",
       "      <th>B</th>\n",
       "      <th>C</th>\n",
       "      <th>D</th>\n",
       "      <th>E</th>\n",
       "    </tr>\n",
       "  </thead>\n",
       "  <tbody>\n",
       "    <tr>\n",
       "      <th>1</th>\n",
       "      <td>0.470897</td>\n",
       "      <td>0.614571</td>\n",
       "      <td>0.482329</td>\n",
       "      <td>0.122095</td>\n",
       "      <td>0.581117</td>\n",
       "    </tr>\n",
       "    <tr>\n",
       "      <th>2</th>\n",
       "      <td>0.586714</td>\n",
       "      <td>0.944985</td>\n",
       "      <td>0.060791</td>\n",
       "      <td>0.916114</td>\n",
       "      <td>0.728265</td>\n",
       "    </tr>\n",
       "    <tr>\n",
       "      <th>3</th>\n",
       "      <td>0.665745</td>\n",
       "      <td>0.021875</td>\n",
       "      <td>0.998442</td>\n",
       "      <td>0.428690</td>\n",
       "      <td>0.168098</td>\n",
       "    </tr>\n",
       "    <tr>\n",
       "      <th>4</th>\n",
       "      <td>0.590196</td>\n",
       "      <td>0.071162</td>\n",
       "      <td>0.259400</td>\n",
       "      <td>0.309601</td>\n",
       "      <td>0.507311</td>\n",
       "    </tr>\n",
       "    <tr>\n",
       "      <th>5</th>\n",
       "      <td>0.552964</td>\n",
       "      <td>0.120295</td>\n",
       "      <td>0.857820</td>\n",
       "      <td>0.219429</td>\n",
       "      <td>0.897290</td>\n",
       "    </tr>\n",
       "  </tbody>\n",
       "</table>\n",
       "</div>"
      ],
      "text/plain": [
       "          A         B         C         D         E\n",
       "1  0.470897  0.614571  0.482329  0.122095  0.581117\n",
       "2  0.586714  0.944985  0.060791  0.916114  0.728265\n",
       "3  0.665745  0.021875  0.998442  0.428690  0.168098\n",
       "4  0.590196  0.071162  0.259400  0.309601  0.507311\n",
       "5  0.552964  0.120295  0.857820  0.219429  0.897290"
      ]
     },
     "execution_count": 12,
     "metadata": {},
     "output_type": "execute_result"
    }
   ],
   "source": [
    "df = pd.DataFrame(np.random.rand(5, 5), columns=list('ABCDE'), index=range(1, 6))\n",
    "df"
   ]
  },
  {
   "cell_type": "code",
   "execution_count": 13,
   "metadata": {},
   "outputs": [
    {
     "data": {
      "text/plain": [
       "사과      846\n",
       "배       343\n",
       "바나나      17\n",
       "딸기     1954\n",
       "오렌지     440\n",
       "dtype: int64"
      ]
     },
     "execution_count": 13,
     "metadata": {},
     "output_type": "execute_result"
    }
   ],
   "source": [
    "fruit_fresh = {'사과':846, '배':343, '바나나':17, '딸기':1954, '오렌지':440}\n",
    "fruit_fresh = pd.Series(fruit_fresh)\n",
    "fruit_fresh"
   ]
  },
  {
   "cell_type": "code",
   "execution_count": 14,
   "metadata": {},
   "outputs": [
    {
     "data": {
      "text/plain": [
       "사과     232\n",
       "배      123\n",
       "바나나     45\n",
       "딸기       2\n",
       "오렌지     30\n",
       "dtype: int64"
      ]
     },
     "execution_count": 14,
     "metadata": {},
     "output_type": "execute_result"
    }
   ],
   "source": [
    "fruit_rotten = {'사과': 232, '배': 123, '바나나': 45, '딸기': 2, '오렌지': 30}\n",
    "fruit_rotten = pd.Series(fruit_rotten)\n",
    "fruit_rotten"
   ]
  },
  {
   "cell_type": "code",
   "execution_count": 15,
   "metadata": {},
   "outputs": [
    {
     "data": {
      "text/html": [
       "<div>\n",
       "<style scoped>\n",
       "    .dataframe tbody tr th:only-of-type {\n",
       "        vertical-align: middle;\n",
       "    }\n",
       "\n",
       "    .dataframe tbody tr th {\n",
       "        vertical-align: top;\n",
       "    }\n",
       "\n",
       "    .dataframe thead th {\n",
       "        text-align: right;\n",
       "    }\n",
       "</style>\n",
       "<table border=\"1\" class=\"dataframe\">\n",
       "  <thead>\n",
       "    <tr style=\"text-align: right;\">\n",
       "      <th></th>\n",
       "      <th>싱싱한 과일</th>\n",
       "      <th>썩은 과일</th>\n",
       "      <th>모든 과일</th>\n",
       "    </tr>\n",
       "  </thead>\n",
       "  <tbody>\n",
       "    <tr>\n",
       "      <th>사과</th>\n",
       "      <td>846</td>\n",
       "      <td>232</td>\n",
       "      <td>1078</td>\n",
       "    </tr>\n",
       "    <tr>\n",
       "      <th>배</th>\n",
       "      <td>343</td>\n",
       "      <td>123</td>\n",
       "      <td>466</td>\n",
       "    </tr>\n",
       "    <tr>\n",
       "      <th>바나나</th>\n",
       "      <td>17</td>\n",
       "      <td>45</td>\n",
       "      <td>62</td>\n",
       "    </tr>\n",
       "    <tr>\n",
       "      <th>딸기</th>\n",
       "      <td>1954</td>\n",
       "      <td>2</td>\n",
       "      <td>1956</td>\n",
       "    </tr>\n",
       "    <tr>\n",
       "      <th>오렌지</th>\n",
       "      <td>440</td>\n",
       "      <td>30</td>\n",
       "      <td>470</td>\n",
       "    </tr>\n",
       "  </tbody>\n",
       "</table>\n",
       "</div>"
      ],
      "text/plain": [
       "     싱싱한 과일  썩은 과일  모든 과일\n",
       "사과      846    232   1078\n",
       "배       343    123    466\n",
       "바나나      17     45     62\n",
       "딸기     1954      2   1956\n",
       "오렌지     440     30    470"
      ]
     },
     "execution_count": 15,
     "metadata": {},
     "output_type": "execute_result"
    }
   ],
   "source": [
    "fruit_df = pd.DataFrame({'싱싱한 과일': fruit_fresh, '썩은 과일': fruit_rotten})\n",
    "fruit_df['모든 과일'] = np.sum(fruit_df, axis=1)\n",
    "fruit_df"
   ]
  },
  {
   "cell_type": "code",
   "execution_count": 16,
   "metadata": {},
   "outputs": [
    {
     "name": "stdout",
     "output_type": "stream",
     "text": [
      "Index(['사과', '배', '바나나', '딸기', '오렌지'], dtype='object')\n",
      "Index(['싱싱한 과일', '썩은 과일', '모든 과일'], dtype='object')\n",
      "[[ 846  232 1078]\n",
      " [ 343  123  466]\n",
      " [  17   45   62]\n",
      " [1954    2 1956]\n",
      " [ 440   30  470]]\n",
      "사과      846\n",
      "배       343\n",
      "바나나      17\n",
      "딸기     1954\n",
      "오렌지     440\n",
      "Name: 싱싱한 과일, dtype: int64\n",
      "45\n",
      "     싱싱한 과일  썩은 과일  모든 과일\n",
      "배       343    123    466\n",
      "바나나      17     45     62\n",
      "딸기     1954      2   1956\n"
     ]
    }
   ],
   "source": [
    "print(fruit_df.index)\n",
    "print(fruit_df.columns)\n",
    "print(fruit_df.values)\n",
    "print(fruit_df['싱싱한 과일'])\n",
    "print(fruit_df['썩은 과일']['바나나'])\n",
    "print(fruit_df['배':'딸기'])"
   ]
  },
  {
   "cell_type": "code",
   "execution_count": 17,
   "metadata": {},
   "outputs": [
    {
     "name": "stdout",
     "output_type": "stream",
     "text": [
      "사과     1078\n",
      "배       466\n",
      "바나나      62\n",
      "딸기     1956\n",
      "오렌지     470\n",
      "Name: 모든 과일, dtype: int64\n",
      "<class 'pandas.core.series.Series'>\n"
     ]
    },
    {
     "data": {
      "text/html": [
       "<div>\n",
       "<style scoped>\n",
       "    .dataframe tbody tr th:only-of-type {\n",
       "        vertical-align: middle;\n",
       "    }\n",
       "\n",
       "    .dataframe tbody tr th {\n",
       "        vertical-align: top;\n",
       "    }\n",
       "\n",
       "    .dataframe thead th {\n",
       "        text-align: right;\n",
       "    }\n",
       "</style>\n",
       "<table border=\"1\" class=\"dataframe\">\n",
       "  <thead>\n",
       "    <tr style=\"text-align: right;\">\n",
       "      <th></th>\n",
       "      <th>사과</th>\n",
       "      <th>배</th>\n",
       "      <th>바나나</th>\n",
       "      <th>딸기</th>\n",
       "      <th>오렌지</th>\n",
       "    </tr>\n",
       "  </thead>\n",
       "  <tbody>\n",
       "    <tr>\n",
       "      <th>싱싱한 과일</th>\n",
       "      <td>0.784787</td>\n",
       "      <td>0.736052</td>\n",
       "      <td>0.274194</td>\n",
       "      <td>0.998978</td>\n",
       "      <td>0.93617</td>\n",
       "    </tr>\n",
       "    <tr>\n",
       "      <th>썩은 과일</th>\n",
       "      <td>0.215213</td>\n",
       "      <td>0.263948</td>\n",
       "      <td>0.725806</td>\n",
       "      <td>0.001022</td>\n",
       "      <td>0.06383</td>\n",
       "    </tr>\n",
       "    <tr>\n",
       "      <th>모든 과일</th>\n",
       "      <td>1.000000</td>\n",
       "      <td>1.000000</td>\n",
       "      <td>1.000000</td>\n",
       "      <td>1.000000</td>\n",
       "      <td>1.00000</td>\n",
       "    </tr>\n",
       "  </tbody>\n",
       "</table>\n",
       "</div>"
      ],
      "text/plain": [
       "              사과         배       바나나        딸기      오렌지\n",
       "싱싱한 과일  0.784787  0.736052  0.274194  0.998978  0.93617\n",
       "썩은 과일   0.215213  0.263948  0.725806  0.001022  0.06383\n",
       "모든 과일   1.000000  1.000000  1.000000  1.000000  1.00000"
      ]
     },
     "execution_count": 17,
     "metadata": {},
     "output_type": "execute_result"
    }
   ],
   "source": [
    "print(fruit_df['모든 과일'])\n",
    "print(type(fruit_df['모든 과일']))\n",
    "fruit_df = fruit_df.div(fruit_df['모든 과일'], axis=0)\n",
    "fruit_df.T"
   ]
  },
  {
   "cell_type": "markdown",
   "metadata": {},
   "source": [
    "# Index"
   ]
  },
  {
   "cell_type": "code",
   "execution_count": 18,
   "metadata": {},
   "outputs": [
    {
     "data": {
      "text/plain": [
       "Int64Index([2, 4, 6, 8, 10], dtype='int64')"
      ]
     },
     "execution_count": 18,
     "metadata": {},
     "output_type": "execute_result"
    }
   ],
   "source": [
    "idx = pd.Index([2, 4, 6, 8, 10])\n",
    "idx"
   ]
  },
  {
   "cell_type": "code",
   "execution_count": 19,
   "metadata": {},
   "outputs": [
    {
     "name": "stdout",
     "output_type": "stream",
     "text": [
      "5\n",
      "(5,)\n",
      "1\n",
      "int64\n"
     ]
    }
   ],
   "source": [
    "print(idx.size)\n",
    "print(idx.shape)\n",
    "print(idx.ndim)\n",
    "print(idx.dtype)"
   ]
  },
  {
   "cell_type": "code",
   "execution_count": 20,
   "metadata": {},
   "outputs": [
    {
     "name": "stdout",
     "output_type": "stream",
     "text": [
      "Int64Index([1, 2, 3, 4, 5, 4, 5, 6, 7, 8], dtype='int64')\n",
      "Int64Index([1, 2, 3], dtype='int64')\n",
      "Int64Index([4, 5], dtype='int64')\n",
      "Int64Index([1, 2, 3, 4, 5, 6, 7, 8], dtype='int64')\n",
      "Int64Index([2, 3, 4, 5], dtype='int64')\n",
      "Int64Index([2, 3, 4, 5], dtype='int64')\n",
      "Int64Index([1, 2, 3, 6, 7, 8], dtype='int64')\n"
     ]
    }
   ],
   "source": [
    "idx1 = pd.Index([1, 2, 3, 4, 5])\n",
    "idx2 = pd.Index([4, 5, 6, 7, 8])\n",
    "\n",
    "print(idx1.append(idx2)) \n",
    "# does return value.\n",
    "# not like list.append() which returns None.\n",
    "\n",
    "print(idx1.difference(idx2))\n",
    "print(idx1.intersection(idx2))\n",
    "print(idx1.union(idx2))\n",
    "\n",
    "print(idx1.delete(0)) # delete by index\n",
    "print(idx1.drop(1)) # delete by value\n",
    "print(idx1.symmetric_difference(idx2))"
   ]
  },
  {
   "cell_type": "markdown",
   "metadata": {},
   "source": [
    "# Series 인덱싱"
   ]
  },
  {
   "cell_type": "code",
   "execution_count": 21,
   "metadata": {},
   "outputs": [
    {
     "name": "stdout",
     "output_type": "stream",
     "text": [
      "Index(['a', 'b', 'c', 'd', 'e'], dtype='object')\n",
      "[('a', 0.0), ('b', 1.0), ('c', 1.5), ('d', 2.0), ('e', 3.2)]\n",
      "a    0.0\n",
      "b    1.0\n",
      "c    1.5\n",
      "dtype: float64\n",
      "a    0.0\n",
      "b    1.0\n",
      "c    1.5\n",
      "dtype: float64\n",
      "c    1.5\n",
      "d    2.0\n",
      "dtype: float64\n"
     ]
    }
   ],
   "source": [
    "s = pd.Series([0, 1, 1.5, 2, 3.2], index=['a', 'b', 'c', 'd', 'e'])\n",
    "print(s.keys())\n",
    "print(list(s.items()))\n",
    "print(s['a':'c'])\n",
    "print(s[0:3])\n",
    "print(s[(s > 1) & (s < 3)])"
   ]
  },
  {
   "cell_type": "code",
   "execution_count": 22,
   "metadata": {},
   "outputs": [
    {
     "name": "stdout",
     "output_type": "stream",
     "text": [
      "1    a\n",
      "3    b\n",
      "5    c\n",
      "7    d\n",
      "9    e\n",
      "dtype: object\n",
      "a\n",
      "3    b\n",
      "5    c\n",
      "dtype: object\n",
      "b\n",
      "3    b\n",
      "5    c\n",
      "dtype: object\n",
      "a\n",
      "1    a\n",
      "3    b\n",
      "dtype: object\n"
     ]
    },
    {
     "name": "stderr",
     "output_type": "stream",
     "text": [
      "/var/folders/r3/7n1n1h3x3hvcyqd0xnpjm0lr0000gn/T/ipykernel_54502/1814896530.py:4: FutureWarning: The behavior of `series[i:j]` with an integer-dtype index is deprecated. In a future version, this will be treated as *label-based* indexing, consistent with e.g. `series[i]` lookups. To retain the old behavior, use `series.iloc[i:j]`. To get the future behavior, use `series.loc[i:j]`.\n",
      "  print(s[1:3])\n"
     ]
    }
   ],
   "source": [
    "s = pd.Series(['a', 'b', 'c', 'd', 'e'], index=[1, 3, 5, 7, 9])\n",
    "print(s)\n",
    "print(s[1])\n",
    "print(s[1:3])\n",
    "print(s.iloc[1])\n",
    "print(s.iloc[1:3])\n",
    "print(s.loc[1])\n",
    "print(s.loc[1:3])"
   ]
  },
  {
   "cell_type": "markdown",
   "metadata": {},
   "source": [
    "# DataFrame 인덱싱"
   ]
  },
  {
   "cell_type": "code",
   "execution_count": 23,
   "metadata": {},
   "outputs": [
    {
     "data": {
      "text/html": [
       "<div>\n",
       "<style scoped>\n",
       "    .dataframe tbody tr th:only-of-type {\n",
       "        vertical-align: middle;\n",
       "    }\n",
       "\n",
       "    .dataframe tbody tr th {\n",
       "        vertical-align: top;\n",
       "    }\n",
       "\n",
       "    .dataframe thead th {\n",
       "        text-align: right;\n",
       "    }\n",
       "</style>\n",
       "<table border=\"1\" class=\"dataframe\">\n",
       "  <thead>\n",
       "    <tr style=\"text-align: right;\">\n",
       "      <th></th>\n",
       "      <th>싱싱한 과일</th>\n",
       "      <th>썩은 과일</th>\n",
       "      <th>모든과일</th>\n",
       "    </tr>\n",
       "  </thead>\n",
       "  <tbody>\n",
       "    <tr>\n",
       "      <th>사과</th>\n",
       "      <td>846</td>\n",
       "      <td>232</td>\n",
       "      <td>1078</td>\n",
       "    </tr>\n",
       "    <tr>\n",
       "      <th>배</th>\n",
       "      <td>343</td>\n",
       "      <td>123</td>\n",
       "      <td>466</td>\n",
       "    </tr>\n",
       "    <tr>\n",
       "      <th>바나나</th>\n",
       "      <td>17</td>\n",
       "      <td>45</td>\n",
       "      <td>62</td>\n",
       "    </tr>\n",
       "    <tr>\n",
       "      <th>딸기</th>\n",
       "      <td>2954</td>\n",
       "      <td>2</td>\n",
       "      <td>2956</td>\n",
       "    </tr>\n",
       "    <tr>\n",
       "      <th>오렌지</th>\n",
       "      <td>440</td>\n",
       "      <td>30</td>\n",
       "      <td>470</td>\n",
       "    </tr>\n",
       "  </tbody>\n",
       "</table>\n",
       "</div>"
      ],
      "text/plain": [
       "     싱싱한 과일  썩은 과일  모든과일\n",
       "사과      846    232  1078\n",
       "배       343    123   466\n",
       "바나나      17     45    62\n",
       "딸기     2954      2  2956\n",
       "오렌지     440     30   470"
      ]
     },
     "execution_count": 23,
     "metadata": {},
     "output_type": "execute_result"
    }
   ],
   "source": [
    "fruit_fresh = {'사과':846, '배':343, '바나나':17, '딸기':2954, '오렌지':440}\n",
    "fresh_s = pd.Series(fruit_fresh)\n",
    "fruit_rotten = {'사과': 232, '배': 123, '바나나': 45, '딸기': 2, '오렌지': 30}\n",
    "rotten_s = pd.Series(fruit_rotten)\n",
    "fruit_df = pd.DataFrame({'싱싱한 과일': fresh_s, '썩은 과일': rotten_s})\n",
    "fruit_df['모든과일'] = np.sum(fruit_df, axis=1)\n",
    "fruit_df"
   ]
  },
  {
   "cell_type": "code",
   "execution_count": 24,
   "metadata": {},
   "outputs": [
    {
     "name": "stdout",
     "output_type": "stream",
     "text": [
      "사과     1078\n",
      "배       466\n",
      "바나나      62\n",
      "딸기     2956\n",
      "오렌지     470\n",
      "Name: 모든과일, dtype: int64\n",
      "사과     1078\n",
      "배       466\n",
      "바나나      62\n",
      "딸기     2956\n",
      "오렌지     470\n",
      "Name: 모든과일, dtype: int64\n",
      "[[ 846  232 1078]\n",
      " [ 343  123  466]\n",
      " [  17   45   62]\n",
      " [2954    2 2956]\n",
      " [ 440   30  470]]\n",
      "<class 'numpy.ndarray'>\n",
      "[ 846  232 1078]\n",
      "          사과    배  바나나    딸기  오렌지\n",
      "싱싱한 과일   846  343   17  2954  440\n",
      "썩은 과일    232  123   45     2   30\n",
      "모든과일    1078  466   62  2956  470\n"
     ]
    }
   ],
   "source": [
    "print(fruit_df['모든과일'])\n",
    "print(fruit_df.모든과일)\n",
    "print(fruit_df.values)\n",
    "print(type(fruit_df.values))\n",
    "print(fruit_df.values[0])\n",
    "print(fruit_df.T) # Transpose"
   ]
  },
  {
   "cell_type": "code",
   "execution_count": 26,
   "metadata": {},
   "outputs": [
    {
     "name": "stdout",
     "output_type": "stream",
     "text": [
      "     싱싱한 과일  썩은 과일  모든과일\n",
      "사과      846    232  1078\n",
      "배       343    123   466\n",
      "바나나      17     45    62\n",
      "딸기     2954      2  2956\n",
      "오렌지     440     30   470\n",
      "사과      846\n",
      "배       343\n",
      "바나나      17\n",
      "딸기     2954\n",
      "오렌지     440\n",
      "Name: 싱싱한 과일, dtype: int64\n",
      "<class 'pandas.core.series.Series'>\n",
      "17\n"
     ]
    }
   ],
   "source": [
    "print(fruit_df)\n",
    "print(fruit_df['싱싱한 과일'])\n",
    "print(type(fruit_df['싱싱한 과일']))\n",
    "print(fruit_df['싱싱한 과일']['바나나'])\n",
    "# print(fruit_df['싱싱한과일'][2]) # error\n",
    "# print(fruit_df['싱싱한과일'][1:3]) # error\n",
    "# print(fruit_df['싱싱한과일']['바나나':'오렌지']) # error\n",
    "# print(fruit_df['사과']) # error"
   ]
  },
  {
   "cell_type": "code",
   "execution_count": 27,
   "metadata": {},
   "outputs": [
    {
     "name": "stdout",
     "output_type": "stream",
     "text": [
      "232\n",
      "232\n",
      "     싱싱한 과일  썩은 과일  모든과일\n",
      "사과      846    232  1078\n",
      "배       343    123   466\n",
      "바나나      17     45    62\n",
      "    싱싱한 과일  썩은 과일  모든과일\n",
      "사과     846    232  1078\n",
      "배      343    123   466\n",
      "사과     232\n",
      "배      123\n",
      "바나나     45\n",
      "Name: 썩은 과일, dtype: int64\n",
      "사과    232\n",
      "배     123\n",
      "Name: 썩은 과일, dtype: int64\n"
     ]
    }
   ],
   "source": [
    "print(fruit_df.loc['사과', '썩은 과일'])\n",
    "print(fruit_df.iloc[0, 1])\n",
    "print(fruit_df.loc['사과':'바나나'])\n",
    "print(fruit_df.iloc[0:2])\n",
    "print(fruit_df.loc['사과':'바나나', '썩은 과일'])\n",
    "print(fruit_df.iloc[0:2, 1])"
   ]
  },
  {
   "cell_type": "code",
   "execution_count": 28,
   "metadata": {},
   "outputs": [
    {
     "name": "stdout",
     "output_type": "stream",
     "text": [
      "사과      True\n",
      "배       True\n",
      "바나나    False\n",
      "딸기     False\n",
      "오렌지    False\n",
      "Name: 썩은 과일, dtype: bool\n",
      "<class 'pandas.core.series.Series'>\n",
      "    싱싱한 과일  썩은 과일  모든과일\n",
      "사과     846    232  1078\n",
      "배      343    123   466\n",
      "    싱싱한 과일  썩은 과일  모든과일\n",
      "사과     846    232  1078\n",
      "배      343    123   466\n",
      "   싱싱한 과일  썩은 과일  모든과일\n",
      "배     343    123   466\n",
      "Index(['사과', '배'], dtype='object')\n",
      "[[ 846  232 1078]\n",
      " [ 343  123  466]]\n",
      "Index(['싱싱한 과일', '썩은 과일', '모든과일'], dtype='object')\n",
      "     싱싱한 과일  썩은 과일  모든과일\n",
      "바나나      17     45    62\n",
      "딸기     2954      2  2956\n",
      "오렌지     440     30   470\n",
      "     싱싱한 과일  썩은 과일  모든과일\n",
      "바나나      17     45    62\n",
      "딸기     2954      2  2956\n",
      "오렌지     440     30   470\n",
      "     싱싱한 과일  썩은 과일  모든과일\n",
      "바나나      17     45    62\n",
      "딸기     2954      2  2956\n",
      "오렌지     440     30   470\n"
     ]
    }
   ],
   "source": [
    "print(fruit_df['썩은 과일'] > 100)\n",
    "print(type(fruit_df['썩은 과일'] > 100))\n",
    "print(fruit_df.loc[fruit_df['썩은 과일'] > 100])\n",
    "print(fruit_df.loc[[True, True, False, False, False]])\n",
    "\n",
    "print(fruit_df.loc[(fruit_df['썩은 과일'] > 100) & (fruit_df['싱싱한 과일'] < 400)])\n",
    "\n",
    "print(fruit_df.loc[fruit_df['썩은 과일'] > 100].index)\n",
    "print(fruit_df.loc[fruit_df['썩은 과일'] > 100].values)\n",
    "print(fruit_df.loc[fruit_df['썩은 과일'] > 100].columns)\n",
    "\n",
    "print(fruit_df.drop(fruit_df.loc[fruit_df['썩은 과일'] > 100].index))\n",
    "print(fruit_df.drop(fruit_df.loc[fruit_df['썩은 과일'] > 100].index, axis=0))\n",
    "print(fruit_df.drop(fruit_df.loc[fruit_df['썩은 과일'] > 100].index, axis='index'))"
   ]
  },
  {
   "cell_type": "markdown",
   "metadata": {},
   "source": [
    "# 연산 (+)"
   ]
  },
  {
   "cell_type": "code",
   "execution_count": 29,
   "metadata": {},
   "outputs": [
    {
     "name": "stdout",
     "output_type": "stream",
     "text": [
      "0    6\n",
      "1    1\n",
      "2    8\n",
      "3    7\n",
      "4    7\n",
      "dtype: int64\n",
      "0     403.428793\n",
      "1       2.718282\n",
      "2    2980.957987\n",
      "3    1096.633158\n",
      "4    1096.633158\n",
      "dtype: float64\n"
     ]
    }
   ],
   "source": [
    "np.random.seed(20221186)\n",
    "s = pd.Series(np.random.randint(0, 10, 5))\n",
    "print(s)\n",
    "print(np.exp(s))"
   ]
  },
  {
   "cell_type": "code",
   "execution_count": 30,
   "metadata": {},
   "outputs": [
    {
     "name": "stdout",
     "output_type": "stream",
     "text": [
      "   A  B  C\n",
      "0  1  7  7\n",
      "1  8  9  0\n",
      "2  6  8  9\n",
      "     A    B    C\n",
      "0 -1.0 -1.0 -1.0\n",
      "1  1.0 -1.0  1.0\n",
      "2  1.0  1.0 -1.0\n"
     ]
    }
   ],
   "source": [
    "df = pd.DataFrame(np.random.randint(0, 10, (3, 3)), columns=list('ABC'))\n",
    "print(df)\n",
    "print(np.cos(df * np.pi))"
   ]
  },
  {
   "cell_type": "code",
   "execution_count": 31,
   "metadata": {},
   "outputs": [
    {
     "name": "stdout",
     "output_type": "stream",
     "text": [
      "0     NaN\n",
      "1     7.0\n",
      "2     9.0\n",
      "3    11.0\n",
      "4    13.0\n",
      "5     NaN\n",
      "dtype: float64\n",
      "0     1.0\n",
      "1     7.0\n",
      "2     9.0\n",
      "3    11.0\n",
      "4    13.0\n",
      "5     9.0\n",
      "dtype: float64\n"
     ]
    }
   ],
   "source": [
    "s1 = pd.Series([1, 2, 3, 4, 5], index=[0, 1, 2, 3, 4])\n",
    "s2 = pd.Series([5, 6, 7, 8, 9], index=[1, 2, 3, 4, 5])\n",
    "print(s1 + s2)\n",
    "print(s1.add(s2, fill_value=0)) # 없는 index은 0으로 채워서 계산"
   ]
  },
  {
   "cell_type": "code",
   "execution_count": 32,
   "metadata": {},
   "outputs": [
    {
     "data": {
      "text/html": [
       "<div>\n",
       "<style scoped>\n",
       "    .dataframe tbody tr th:only-of-type {\n",
       "        vertical-align: middle;\n",
       "    }\n",
       "\n",
       "    .dataframe tbody tr th {\n",
       "        vertical-align: top;\n",
       "    }\n",
       "\n",
       "    .dataframe thead th {\n",
       "        text-align: right;\n",
       "    }\n",
       "</style>\n",
       "<table border=\"1\" class=\"dataframe\">\n",
       "  <thead>\n",
       "    <tr style=\"text-align: right;\">\n",
       "      <th></th>\n",
       "      <th>A</th>\n",
       "      <th>B</th>\n",
       "      <th>C</th>\n",
       "    </tr>\n",
       "  </thead>\n",
       "  <tbody>\n",
       "    <tr>\n",
       "      <th>0</th>\n",
       "      <td>5</td>\n",
       "      <td>3</td>\n",
       "      <td>9</td>\n",
       "    </tr>\n",
       "    <tr>\n",
       "      <th>1</th>\n",
       "      <td>9</td>\n",
       "      <td>6</td>\n",
       "      <td>7</td>\n",
       "    </tr>\n",
       "    <tr>\n",
       "      <th>2</th>\n",
       "      <td>0</td>\n",
       "      <td>4</td>\n",
       "      <td>5</td>\n",
       "    </tr>\n",
       "  </tbody>\n",
       "</table>\n",
       "</div>"
      ],
      "text/plain": [
       "   A  B  C\n",
       "0  5  3  9\n",
       "1  9  6  7\n",
       "2  0  4  5"
      ]
     },
     "execution_count": 32,
     "metadata": {},
     "output_type": "execute_result"
    }
   ],
   "source": [
    "df1 = pd.DataFrame(np.random.randint(0, 10, (3, 3)), columns=list('ABC'))\n",
    "df1"
   ]
  },
  {
   "cell_type": "code",
   "execution_count": 33,
   "metadata": {},
   "outputs": [
    {
     "data": {
      "text/html": [
       "<div>\n",
       "<style scoped>\n",
       "    .dataframe tbody tr th:only-of-type {\n",
       "        vertical-align: middle;\n",
       "    }\n",
       "\n",
       "    .dataframe tbody tr th {\n",
       "        vertical-align: top;\n",
       "    }\n",
       "\n",
       "    .dataframe thead th {\n",
       "        text-align: right;\n",
       "    }\n",
       "</style>\n",
       "<table border=\"1\" class=\"dataframe\">\n",
       "  <thead>\n",
       "    <tr style=\"text-align: right;\">\n",
       "      <th></th>\n",
       "      <th>B</th>\n",
       "      <th>C</th>\n",
       "      <th>D</th>\n",
       "      <th>E</th>\n",
       "      <th>F</th>\n",
       "    </tr>\n",
       "  </thead>\n",
       "  <tbody>\n",
       "    <tr>\n",
       "      <th>0</th>\n",
       "      <td>7</td>\n",
       "      <td>9</td>\n",
       "      <td>2</td>\n",
       "      <td>8</td>\n",
       "      <td>3</td>\n",
       "    </tr>\n",
       "    <tr>\n",
       "      <th>1</th>\n",
       "      <td>6</td>\n",
       "      <td>2</td>\n",
       "      <td>9</td>\n",
       "      <td>0</td>\n",
       "      <td>7</td>\n",
       "    </tr>\n",
       "    <tr>\n",
       "      <th>2</th>\n",
       "      <td>5</td>\n",
       "      <td>4</td>\n",
       "      <td>4</td>\n",
       "      <td>7</td>\n",
       "      <td>0</td>\n",
       "    </tr>\n",
       "    <tr>\n",
       "      <th>3</th>\n",
       "      <td>7</td>\n",
       "      <td>3</td>\n",
       "      <td>2</td>\n",
       "      <td>8</td>\n",
       "      <td>9</td>\n",
       "    </tr>\n",
       "    <tr>\n",
       "      <th>4</th>\n",
       "      <td>0</td>\n",
       "      <td>0</td>\n",
       "      <td>8</td>\n",
       "      <td>4</td>\n",
       "      <td>5</td>\n",
       "    </tr>\n",
       "  </tbody>\n",
       "</table>\n",
       "</div>"
      ],
      "text/plain": [
       "   B  C  D  E  F\n",
       "0  7  9  2  8  3\n",
       "1  6  2  9  0  7\n",
       "2  5  4  4  7  0\n",
       "3  7  3  2  8  9\n",
       "4  0  0  8  4  5"
      ]
     },
     "execution_count": 33,
     "metadata": {},
     "output_type": "execute_result"
    }
   ],
   "source": [
    "df2 = pd.DataFrame(np.random.randint(0, 10, (5, 5)), columns=list('BCDEF'))\n",
    "df2"
   ]
  },
  {
   "cell_type": "code",
   "execution_count": 34,
   "metadata": {},
   "outputs": [
    {
     "name": "stdout",
     "output_type": "stream",
     "text": [
      "    A     B     C   D   E   F\n",
      "0 NaN  10.0  18.0 NaN NaN NaN\n",
      "1 NaN  12.0   9.0 NaN NaN NaN\n",
      "2 NaN   9.0   9.0 NaN NaN NaN\n",
      "3 NaN   NaN   NaN NaN NaN NaN\n",
      "4 NaN   NaN   NaN NaN NaN NaN\n",
      "    A     B     C   D   E   F\n",
      "0 NaN  10.0  18.0 NaN NaN NaN\n",
      "1 NaN  12.0   9.0 NaN NaN NaN\n",
      "2 NaN   9.0   9.0 NaN NaN NaN\n",
      "3 NaN   NaN   NaN NaN NaN NaN\n",
      "4 NaN   NaN   NaN NaN NaN NaN\n",
      "     A     B     C    D    E    F\n",
      "0  5.0  10.0  18.0  2.0  8.0  3.0\n",
      "1  9.0  12.0   9.0  9.0  0.0  7.0\n",
      "2  0.0   9.0   9.0  4.0  7.0  0.0\n",
      "3  NaN   7.0   3.0  2.0  8.0  9.0\n",
      "4  NaN   0.0   0.0  8.0  4.0  5.0\n",
      "      A     B     C     D    E     F\n",
      "0   6.0  10.0  18.0   3.0  9.0   4.0\n",
      "1  10.0  12.0   9.0  10.0  1.0   8.0\n",
      "2   1.0   9.0   9.0   5.0  8.0   1.0\n",
      "3   NaN   8.0   4.0   3.0  9.0  10.0\n",
      "4   NaN   1.0   1.0   9.0  5.0   6.0\n"
     ]
    }
   ],
   "source": [
    "print(df1 + df2)\n",
    "print(df1.add(df2))\n",
    "print(df1.add(df2, fill_value=0))\n",
    "print(df2.add(df1, fill_value=1))"
   ]
  },
  {
   "cell_type": "markdown",
   "metadata": {},
   "source": [
    "# 연산 (-)"
   ]
  },
  {
   "cell_type": "code",
   "execution_count": 35,
   "metadata": {},
   "outputs": [
    {
     "name": "stdout",
     "output_type": "stream",
     "text": [
      "   A  B  C\n",
      "0  5  3  9\n",
      "1  9  6  7\n",
      "2  0  4  5\n",
      "    A    B    C   D   E   F\n",
      "0 NaN  4.0  0.0 NaN NaN NaN\n",
      "1 NaN  0.0 -5.0 NaN NaN NaN\n",
      "2 NaN  1.0 -1.0 NaN NaN NaN\n",
      "3 NaN  NaN  NaN NaN NaN NaN\n",
      "4 NaN  NaN  NaN NaN NaN NaN\n",
      "b    9\n",
      "c    9\n",
      "d    9\n",
      "dtype: int64\n",
      "    A   B   C   b   c   d\n",
      "0 NaN NaN NaN NaN NaN NaN\n",
      "1 NaN NaN NaN NaN NaN NaN\n",
      "2 NaN NaN NaN NaN NaN NaN\n",
      "1    9\n",
      "2    9\n",
      "3    9\n",
      "dtype: int64\n",
      "    A   B   C   1   2   3\n",
      "0 NaN NaN NaN NaN NaN NaN\n",
      "1 NaN NaN NaN NaN NaN NaN\n",
      "2 NaN NaN NaN NaN NaN NaN\n"
     ]
    }
   ],
   "source": [
    "print(df1)\n",
    "print(df2-df1)\n",
    "s1 = pd.Series([9, 9, 9], index = ['b', 'c', 'd'])\n",
    "print(s1)\n",
    "print(df1.sub(s1)) # DataFrame - Series Broadcasting\n",
    "s2 = pd.Series([9, 9, 9], index = [1, 2, 3])\n",
    "print(s2)\n",
    "print(df1.sub(s2))"
   ]
  },
  {
   "cell_type": "code",
   "execution_count": 37,
   "metadata": {},
   "outputs": [
    {
     "name": "stdout",
     "output_type": "stream",
     "text": [
      "   A  B  C\n",
      "0  5  3  9\n",
      "1  9  6  7\n",
      "2  0  4  5\n",
      "A    9\n",
      "B    6\n",
      "C    7\n",
      "Name: 1, dtype: int64\n",
      "   A  B  C\n",
      "0 -4 -3  2\n",
      "1  0  0  0\n",
      "2 -9 -2 -2\n",
      "0    3\n",
      "1    6\n",
      "2    4\n",
      "Name: B, dtype: int64\n",
      "    A   B   C   0   1   2\n",
      "0 NaN NaN NaN NaN NaN NaN\n",
      "1 NaN NaN NaN NaN NaN NaN\n",
      "2 NaN NaN NaN NaN NaN NaN\n",
      "   A  B  C\n",
      "0  2  0  6\n",
      "1  3  0  1\n",
      "2 -4  0  1\n"
     ]
    }
   ],
   "source": [
    "print(df1)\n",
    "print(df1.iloc[1])\n",
    "print(df1.sub(df1.iloc[1]))\n",
    "print(df1['B'])\n",
    "print(df1.sub(df1['B']))\n",
    "print(df1.sub(df1['B'], axis=0))"
   ]
  },
  {
   "cell_type": "markdown",
   "metadata": {},
   "source": [
    "# 연산 (*, /, %)"
   ]
  },
  {
   "cell_type": "code",
   "execution_count": 39,
   "metadata": {},
   "outputs": [
    {
     "name": "stdout",
     "output_type": "stream",
     "text": [
      "    A   B   C\n",
      "0  25   9  81\n",
      "1  45  18  63\n",
      "2   0  12  45\n",
      "    A   B   C\n",
      "0  25   9  81\n",
      "1  45  18  63\n",
      "2   0  12  45\n",
      "    A   B   C\n",
      "0  25   9  81\n",
      "1  45  18  63\n",
      "2   0  12  45\n",
      "    A   B   C   0   1   2\n",
      "0 NaN NaN NaN NaN NaN NaN\n",
      "1 NaN NaN NaN NaN NaN NaN\n",
      "2 NaN NaN NaN NaN NaN NaN\n"
     ]
    }
   ],
   "source": [
    "print(df1 * df1.iloc[0])\n",
    "print(df1.mul(df1.iloc[0]))\n",
    "print(df1.multiply(df1.iloc[0]))\n",
    "print(df1 * df1['A'])"
   ]
  },
  {
   "cell_type": "code",
   "execution_count": 40,
   "metadata": {},
   "outputs": [
    {
     "name": "stdout",
     "output_type": "stream",
     "text": [
      "     A     B    C\n",
      "0  inf  0.75  1.8\n",
      "1  inf  1.50  1.4\n",
      "2  NaN  1.00  1.0\n",
      "     A     B    C\n",
      "0  inf  0.75  1.8\n",
      "1  inf  1.50  1.4\n",
      "2  NaN  1.00  1.0\n",
      "     A     B    C\n",
      "0  inf  0.75  1.8\n",
      "1  inf  1.50  1.4\n",
      "2  NaN  1.00  1.0\n",
      "     A     B    C\n",
      "0  inf  0.75  1.8\n",
      "1  inf  1.50  1.4\n",
      "2  NaN  1.00  1.0\n",
      "     A    B    C\n",
      "0  inf  0.0  1.0\n",
      "1  inf  1.0  1.0\n",
      "2  NaN  1.0  1.0\n",
      "     A    B    C\n",
      "0  inf  0.0  1.0\n",
      "1  inf  1.0  1.0\n",
      "2  NaN  1.0  1.0\n"
     ]
    }
   ],
   "source": [
    "print(df1 / df1.iloc[2])\n",
    "print(df1.truediv(df1.iloc[2]))\n",
    "print(df1.div(df1.iloc[2]))\n",
    "print(df1.divide(df1.iloc[2]))\n",
    "print(df1 // df1.iloc[2])\n",
    "print(df1.floordiv(df1.iloc[2]))"
   ]
  },
  {
   "cell_type": "code",
   "execution_count": 42,
   "metadata": {},
   "outputs": [
    {
     "name": "stdout",
     "output_type": "stream",
     "text": [
      "    A    B    C\n",
      "0 NaN  3.0  4.0\n",
      "1 NaN  2.0  2.0\n",
      "2 NaN  0.0  0.0\n",
      "    A    B    C\n",
      "0 NaN  3.0  4.0\n",
      "1 NaN  2.0  2.0\n",
      "2 NaN  0.0  0.0\n",
      "       A    B          C\n",
      "0   3125   27  387420489\n",
      "1  59049  216   40353607\n",
      "2      0   64    1953125\n",
      "       A    B          C\n",
      "0   3125   27  387420489\n",
      "1  59049  216   40353607\n",
      "2      0   64    1953125\n"
     ]
    }
   ],
   "source": [
    "print(df1 % df1.iloc[2])\n",
    "print(df1.mod(df1.iloc[2]))\n",
    "print(df1.pow(df1.iloc[0]))\n",
    "print(df1 ** df1.iloc[0])"
   ]
  },
  {
   "cell_type": "markdown",
   "metadata": {},
   "source": [
    "# sort"
   ]
  },
  {
   "cell_type": "code",
   "execution_count": null,
   "metadata": {},
   "outputs": [],
   "source": [
    "s = pd.Series([4, 2, 6, 3, 1], index=list(\"acbed\"))\n",
    "print(s)\n",
    "print(s.sort_index())\n",
    "print(s.sort_values())"
   ]
  },
  {
   "cell_type": "code",
   "execution_count": null,
   "metadata": {},
   "outputs": [],
   "source": [
    "df = pd.DataFrame(\n",
    "    np.random.randint(0, 10, (4, 4)), \n",
    "    index= [3, 5, 2, 4], \n",
    "    columns=list('bcda'))\n",
    "print(df)\n",
    "print(df.sort_index())\n",
    "print(df.sort_index(axis=1))\n",
    "print(df.sort_values(by='b'))\n",
    "print(df.sort_values(by='bc'))"
   ]
  },
  {
   "cell_type": "markdown",
   "metadata": {},
   "source": [
    "# concat"
   ]
  },
  {
   "cell_type": "code",
   "execution_count": null,
   "metadata": {},
   "outputs": [],
   "source": []
  },
  {
   "cell_type": "markdown",
   "metadata": {},
   "source": [
    "# merge"
   ]
  },
  {
   "cell_type": "code",
   "execution_count": null,
   "metadata": {},
   "outputs": [],
   "source": []
  },
  {
   "cell_type": "markdown",
   "metadata": {},
   "source": [
    "# 문자열"
   ]
  },
  {
   "cell_type": "code",
   "execution_count": null,
   "metadata": {},
   "outputs": [],
   "source": []
  },
  {
   "cell_type": "markdown",
   "metadata": {},
   "source": [
    "# None, nan"
   ]
  },
  {
   "cell_type": "code",
   "execution_count": null,
   "metadata": {},
   "outputs": [],
   "source": []
  },
  {
   "cell_type": "markdown",
   "metadata": {},
   "source": [
    "# 중복"
   ]
  },
  {
   "cell_type": "code",
   "execution_count": null,
   "metadata": {},
   "outputs": [],
   "source": [
    "df = pd.DataFrame({\n",
    "    'first':['a', 'b', 'c']*3,\n",
    "    'second':[1, 2, 1, 1, 2, 3, 3, 4, 2]})\n",
    "print(df)\n",
    "print(df.duplicated())\n",
    "print(df.drop_duplicates())"
   ]
  },
  {
   "cell_type": "markdown",
   "metadata": {},
   "source": [
    "# 특이값"
   ]
  },
  {
   "cell_type": "code",
   "execution_count": 43,
   "metadata": {},
   "outputs": [
    {
     "name": "stdout",
     "output_type": "stream",
     "text": [
      "0        1\n",
      "1        2\n",
      "2        3\n",
      "3    -9999\n",
      "4        4\n",
      "5   -10001\n",
      "dtype: int64\n",
      "0    False\n",
      "1    False\n",
      "2    False\n",
      "3     True\n",
      "4    False\n",
      "5     True\n",
      "dtype: bool\n",
      "3    -9999\n",
      "5   -10001\n",
      "dtype: int64\n",
      "[3    -9999\n",
      "5   -10001\n",
      "dtype: int64]\n",
      "0    1.0\n",
      "1    2.0\n",
      "2    3.0\n",
      "3    NaN\n",
      "4    4.0\n",
      "5    NaN\n",
      "dtype: float64\n",
      "0    1.0\n",
      "1    2.0\n",
      "2    3.0\n",
      "3    NaN\n",
      "4    4.0\n",
      "5    NaN\n",
      "dtype: float64\n"
     ]
    }
   ],
   "source": [
    "s = pd.Series([1, 2, 3, -9999, 4, -10001])\n",
    "print(s)\n",
    "print(s <- 1000)\n",
    "print(s[s <- 1000])\n",
    "print([s[s < -1000]])\n",
    "print(s.replace( [s[s <- 1000]], np.nan))\n",
    "print(s.replace( [-9999, -10001], np.nan))"
   ]
  }
 ],
 "metadata": {
  "kernelspec": {
   "display_name": "Python 3",
   "language": "python",
   "name": "python3"
  },
  "language_info": {
   "codemirror_mode": {
    "name": "ipython",
    "version": 3
   },
   "file_extension": ".py",
   "mimetype": "text/x-python",
   "name": "python",
   "nbconvert_exporter": "python",
   "pygments_lexer": "ipython3",
   "version": "3.10.7"
  },
  "orig_nbformat": 4,
  "vscode": {
   "interpreter": {
    "hash": "b0fa6594d8f4cbf19f97940f81e996739fb7646882a419484c72d19e05852a7e"
   }
  }
 },
 "nbformat": 4,
 "nbformat_minor": 2
}
