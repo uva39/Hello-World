{
 "cells": [
  {
   "cell_type": "markdown",
   "metadata": {},
   "source": [
    "# Import"
   ]
  },
  {
   "cell_type": "code",
   "execution_count": 42,
   "metadata": {},
   "outputs": [],
   "source": [
    "import numpy as np\n",
    "import pandas as pd"
   ]
  },
  {
   "cell_type": "markdown",
   "metadata": {},
   "source": [
    "# Series"
   ]
  },
  {
   "cell_type": "code",
   "execution_count": 43,
   "metadata": {},
   "outputs": [
    {
     "data": {
      "text/plain": [
       "0    0.0\n",
       "1    1.0\n",
       "2    1.5\n",
       "3    2.0\n",
       "4    3.2\n",
       "dtype: float64"
      ]
     },
     "execution_count": 43,
     "metadata": {},
     "output_type": "execute_result"
    }
   ],
   "source": [
    "s = pd.Series([0, 1, 1.5, 2, 3.2])\n",
    "s"
   ]
  },
  {
   "cell_type": "code",
   "execution_count": 44,
   "metadata": {},
   "outputs": [
    {
     "name": "stdout",
     "output_type": "stream",
     "text": [
      "[0.  1.  1.5 2.  3.2]\n",
      "RangeIndex(start=0, stop=5, step=1)\n",
      "1.0\n",
      "1    1.0\n",
      "2    1.5\n",
      "3    2.0\n",
      "4    3.2\n",
      "dtype: float64\n",
      "0    False\n",
      "1    False\n",
      "2    False\n",
      "3     True\n",
      "4     True\n",
      "dtype: bool\n"
     ]
    }
   ],
   "source": [
    "print(s.values)\n",
    "print(s.index)\n",
    "print(s[1])\n",
    "print(s[1:5])\n",
    "print(s>1.6)"
   ]
  },
  {
   "cell_type": "code",
   "execution_count": 45,
   "metadata": {},
   "outputs": [
    {
     "data": {
      "text/plain": [
       "a    0.0\n",
       "b    1.0\n",
       "c    1.5\n",
       "d    2.0\n",
       "e    3.2\n",
       "dtype: float64"
      ]
     },
     "execution_count": 45,
     "metadata": {},
     "output_type": "execute_result"
    }
   ],
   "source": [
    "s = pd.Series([0, 1, 1.5, 2, 3.2], index=['a', 'b', 'c', 'd', 'e'])\n",
    "s"
   ]
  },
  {
   "cell_type": "code",
   "execution_count": 46,
   "metadata": {},
   "outputs": [
    {
     "name": "stdout",
     "output_type": "stream",
     "text": [
      "1.5\n",
      "b    1.0\n",
      "dtype: float64\n",
      "b    1.0\n",
      "c    1.5\n",
      "d    2.0\n",
      "e    3.2\n",
      "dtype: float64\n",
      "a    0.0\n",
      "c    1.5\n",
      "e    3.2\n",
      "dtype: float64\n",
      "True\n"
     ]
    }
   ],
   "source": [
    "print(s['c'])\n",
    "print(s[1:2])\n",
    "print(s['b':'e'])\n",
    "print(s[['a', 'c', 'e']])\n",
    "print('b' in s)"
   ]
  },
  {
   "cell_type": "code",
   "execution_count": 47,
   "metadata": {},
   "outputs": [
    {
     "data": {
      "text/plain": [
       "2     0.0\n",
       "4     1.0\n",
       "6     1.5\n",
       "8     2.0\n",
       "10    3.2\n",
       "12    2.0\n",
       "14    1.5\n",
       "dtype: float64"
      ]
     },
     "execution_count": 47,
     "metadata": {},
     "output_type": "execute_result"
    }
   ],
   "source": [
    "s = pd.Series([0, 1, 1.5, 2, 3.2, 2, 1.5], index=[2, 4, 6, 8, 10, 12, 14])\n",
    "s # 사용자 정의 인덱스"
   ]
  },
  {
   "cell_type": "code",
   "execution_count": 48,
   "metadata": {},
   "outputs": [
    {
     "name": "stdout",
     "output_type": "stream",
     "text": [
      "0.0\n",
      "6    1.5\n",
      "8    2.0\n",
      "dtype: float64\n",
      "[0.  1.  1.5 2.  3.2]\n",
      "1.5    2\n",
      "2.0    2\n",
      "0.0    1\n",
      "1.0    1\n",
      "3.2    1\n",
      "dtype: int64\n",
      "2     False\n",
      "4     False\n",
      "6      True\n",
      "8     False\n",
      "10    False\n",
      "12    False\n",
      "14     True\n",
      "dtype: bool\n"
     ]
    },
    {
     "name": "stderr",
     "output_type": "stream",
     "text": [
      "/var/folders/r3/7n1n1h3x3hvcyqd0xnpjm0lr0000gn/T/ipykernel_8769/2736431161.py:2: FutureWarning: The behavior of `series[i:j]` with an integer-dtype index is deprecated. In a future version, this will be treated as *label-based* indexing, consistent with e.g. `series[i]` lookups. To retain the old behavior, use `series.iloc[i:j]`. To get the future behavior, use `series.loc[i:j]`.\n",
      "  print(s[2:4])\n"
     ]
    }
   ],
   "source": [
    "print(s[2])\n",
    "print(s[2:4])\n",
    "print(s.unique())\n",
    "print(s.value_counts())\n",
    "print(s.isin([0.25, 1.5]))"
   ]
  },
  {
   "cell_type": "code",
   "execution_count": 49,
   "metadata": {},
   "outputs": [
    {
     "data": {
      "text/plain": [
       "사과     10\n",
       "배       5\n",
       "딸기     20\n",
       "바나나     3\n",
       "오렌지     8\n",
       "dtype: int64"
      ]
     },
     "execution_count": 49,
     "metadata": {},
     "output_type": "execute_result"
    }
   ],
   "source": [
    "fruit = {'사과': 10, '배': 5, '딸기': 20, '바나나': 3, '오렌지': 8}\n",
    "s = pd.Series(fruit)\n",
    "s"
   ]
  },
  {
   "cell_type": "code",
   "execution_count": 50,
   "metadata": {},
   "outputs": [
    {
     "data": {
      "text/plain": [
       "5"
      ]
     },
     "execution_count": 50,
     "metadata": {},
     "output_type": "execute_result"
    }
   ],
   "source": [
    "s['배']"
   ]
  },
  {
   "cell_type": "code",
   "execution_count": 51,
   "metadata": {},
   "outputs": [
    {
     "data": {
      "text/plain": [
       "배       5\n",
       "딸기     20\n",
       "바나나     3\n",
       "오렌지     8\n",
       "dtype: int64"
      ]
     },
     "execution_count": 51,
     "metadata": {},
     "output_type": "execute_result"
    }
   ],
   "source": [
    "s['배':'오렌지']"
   ]
  },
  {
   "cell_type": "markdown",
   "metadata": {},
   "source": [
    "# DataFrame"
   ]
  },
  {
   "cell_type": "code",
   "execution_count": 52,
   "metadata": {},
   "outputs": [
    {
     "data": {
      "text/html": [
       "<div>\n",
       "<style scoped>\n",
       "    .dataframe tbody tr th:only-of-type {\n",
       "        vertical-align: middle;\n",
       "    }\n",
       "\n",
       "    .dataframe tbody tr th {\n",
       "        vertical-align: top;\n",
       "    }\n",
       "\n",
       "    .dataframe thead th {\n",
       "        text-align: right;\n",
       "    }\n",
       "</style>\n",
       "<table border=\"1\" class=\"dataframe\">\n",
       "  <thead>\n",
       "    <tr style=\"text-align: right;\">\n",
       "      <th></th>\n",
       "      <th>A</th>\n",
       "      <th>B</th>\n",
       "      <th>D</th>\n",
       "      <th>C</th>\n",
       "    </tr>\n",
       "  </thead>\n",
       "  <tbody>\n",
       "    <tr>\n",
       "      <th>0</th>\n",
       "      <td>2</td>\n",
       "      <td>4</td>\n",
       "      <td>3.0</td>\n",
       "      <td>NaN</td>\n",
       "    </tr>\n",
       "    <tr>\n",
       "      <th>1</th>\n",
       "      <td>4</td>\n",
       "      <td>5</td>\n",
       "      <td>NaN</td>\n",
       "      <td>7.0</td>\n",
       "    </tr>\n",
       "  </tbody>\n",
       "</table>\n",
       "</div>"
      ],
      "text/plain": [
       "   A  B    D    C\n",
       "0  2  4  3.0  NaN\n",
       "1  4  5  NaN  7.0"
      ]
     },
     "execution_count": 52,
     "metadata": {},
     "output_type": "execute_result"
    }
   ],
   "source": [
    "df = pd.DataFrame([{'A':2, 'B':4, 'D':3}, {'A':4, 'B':5, 'C':7}])\n",
    "df"
   ]
  },
  {
   "cell_type": "code",
   "execution_count": 53,
   "metadata": {},
   "outputs": [
    {
     "data": {
      "text/html": [
       "<div>\n",
       "<style scoped>\n",
       "    .dataframe tbody tr th:only-of-type {\n",
       "        vertical-align: middle;\n",
       "    }\n",
       "\n",
       "    .dataframe tbody tr th {\n",
       "        vertical-align: top;\n",
       "    }\n",
       "\n",
       "    .dataframe thead th {\n",
       "        text-align: right;\n",
       "    }\n",
       "</style>\n",
       "<table border=\"1\" class=\"dataframe\">\n",
       "  <thead>\n",
       "    <tr style=\"text-align: right;\">\n",
       "      <th></th>\n",
       "      <th>A</th>\n",
       "      <th>B</th>\n",
       "      <th>C</th>\n",
       "      <th>D</th>\n",
       "      <th>E</th>\n",
       "    </tr>\n",
       "  </thead>\n",
       "  <tbody>\n",
       "    <tr>\n",
       "      <th>1</th>\n",
       "      <td>0.510173</td>\n",
       "      <td>0.398060</td>\n",
       "      <td>0.257090</td>\n",
       "      <td>0.227845</td>\n",
       "      <td>0.924245</td>\n",
       "    </tr>\n",
       "    <tr>\n",
       "      <th>2</th>\n",
       "      <td>0.628575</td>\n",
       "      <td>0.811926</td>\n",
       "      <td>0.397341</td>\n",
       "      <td>0.722758</td>\n",
       "      <td>0.889360</td>\n",
       "    </tr>\n",
       "    <tr>\n",
       "      <th>3</th>\n",
       "      <td>0.893929</td>\n",
       "      <td>0.032527</td>\n",
       "      <td>0.433519</td>\n",
       "      <td>0.583336</td>\n",
       "      <td>0.522526</td>\n",
       "    </tr>\n",
       "    <tr>\n",
       "      <th>4</th>\n",
       "      <td>0.109233</td>\n",
       "      <td>0.958448</td>\n",
       "      <td>0.729668</td>\n",
       "      <td>0.931170</td>\n",
       "      <td>0.243578</td>\n",
       "    </tr>\n",
       "    <tr>\n",
       "      <th>5</th>\n",
       "      <td>0.982903</td>\n",
       "      <td>0.217162</td>\n",
       "      <td>0.259312</td>\n",
       "      <td>0.963398</td>\n",
       "      <td>0.662894</td>\n",
       "    </tr>\n",
       "  </tbody>\n",
       "</table>\n",
       "</div>"
      ],
      "text/plain": [
       "          A         B         C         D         E\n",
       "1  0.510173  0.398060  0.257090  0.227845  0.924245\n",
       "2  0.628575  0.811926  0.397341  0.722758  0.889360\n",
       "3  0.893929  0.032527  0.433519  0.583336  0.522526\n",
       "4  0.109233  0.958448  0.729668  0.931170  0.243578\n",
       "5  0.982903  0.217162  0.259312  0.963398  0.662894"
      ]
     },
     "execution_count": 53,
     "metadata": {},
     "output_type": "execute_result"
    }
   ],
   "source": [
    "df = pd.DataFrame(np.random.rand(5, 5), columns=list('ABCDE'), index=range(1, 6))\n",
    "df"
   ]
  },
  {
   "cell_type": "code",
   "execution_count": 54,
   "metadata": {},
   "outputs": [
    {
     "data": {
      "text/plain": [
       "사과      846\n",
       "배       343\n",
       "바나나      17\n",
       "딸기     1954\n",
       "오렌지     440\n",
       "dtype: int64"
      ]
     },
     "execution_count": 54,
     "metadata": {},
     "output_type": "execute_result"
    }
   ],
   "source": [
    "fruit_fresh = {'사과':846, '배':343, '바나나':17, '딸기':1954, '오렌지':440}\n",
    "fruit_fresh = pd.Series(fruit_fresh)\n",
    "fruit_fresh"
   ]
  },
  {
   "cell_type": "code",
   "execution_count": 55,
   "metadata": {},
   "outputs": [
    {
     "data": {
      "text/plain": [
       "사과     232\n",
       "배      123\n",
       "바나나     45\n",
       "딸기       2\n",
       "오렌지     30\n",
       "dtype: int64"
      ]
     },
     "execution_count": 55,
     "metadata": {},
     "output_type": "execute_result"
    }
   ],
   "source": [
    "fruit_rotten = {'사과': 232, '배': 123, '바나나': 45, '딸기': 2, '오렌지': 30}\n",
    "fruit_rotten = pd.Series(fruit_rotten)\n",
    "fruit_rotten"
   ]
  },
  {
   "cell_type": "code",
   "execution_count": 56,
   "metadata": {},
   "outputs": [
    {
     "data": {
      "text/html": [
       "<div>\n",
       "<style scoped>\n",
       "    .dataframe tbody tr th:only-of-type {\n",
       "        vertical-align: middle;\n",
       "    }\n",
       "\n",
       "    .dataframe tbody tr th {\n",
       "        vertical-align: top;\n",
       "    }\n",
       "\n",
       "    .dataframe thead th {\n",
       "        text-align: right;\n",
       "    }\n",
       "</style>\n",
       "<table border=\"1\" class=\"dataframe\">\n",
       "  <thead>\n",
       "    <tr style=\"text-align: right;\">\n",
       "      <th></th>\n",
       "      <th>싱싱한 과일</th>\n",
       "      <th>썩은 과일</th>\n",
       "      <th>모든 과일</th>\n",
       "    </tr>\n",
       "  </thead>\n",
       "  <tbody>\n",
       "    <tr>\n",
       "      <th>사과</th>\n",
       "      <td>846</td>\n",
       "      <td>232</td>\n",
       "      <td>1078</td>\n",
       "    </tr>\n",
       "    <tr>\n",
       "      <th>배</th>\n",
       "      <td>343</td>\n",
       "      <td>123</td>\n",
       "      <td>466</td>\n",
       "    </tr>\n",
       "    <tr>\n",
       "      <th>바나나</th>\n",
       "      <td>17</td>\n",
       "      <td>45</td>\n",
       "      <td>62</td>\n",
       "    </tr>\n",
       "    <tr>\n",
       "      <th>딸기</th>\n",
       "      <td>1954</td>\n",
       "      <td>2</td>\n",
       "      <td>1956</td>\n",
       "    </tr>\n",
       "    <tr>\n",
       "      <th>오렌지</th>\n",
       "      <td>440</td>\n",
       "      <td>30</td>\n",
       "      <td>470</td>\n",
       "    </tr>\n",
       "  </tbody>\n",
       "</table>\n",
       "</div>"
      ],
      "text/plain": [
       "     싱싱한 과일  썩은 과일  모든 과일\n",
       "사과      846    232   1078\n",
       "배       343    123    466\n",
       "바나나      17     45     62\n",
       "딸기     1954      2   1956\n",
       "오렌지     440     30    470"
      ]
     },
     "execution_count": 56,
     "metadata": {},
     "output_type": "execute_result"
    }
   ],
   "source": [
    "fruit_df = pd.DataFrame({'싱싱한 과일': fruit_fresh, '썩은 과일': fruit_rotten})\n",
    "fruit_df['모든 과일'] = np.sum(fruit_df, axis=1)\n",
    "fruit_df"
   ]
  },
  {
   "cell_type": "code",
   "execution_count": 57,
   "metadata": {},
   "outputs": [
    {
     "name": "stdout",
     "output_type": "stream",
     "text": [
      "Index(['사과', '배', '바나나', '딸기', '오렌지'], dtype='object')\n",
      "Index(['싱싱한 과일', '썩은 과일', '모든 과일'], dtype='object')\n",
      "[[ 846  232 1078]\n",
      " [ 343  123  466]\n",
      " [  17   45   62]\n",
      " [1954    2 1956]\n",
      " [ 440   30  470]]\n",
      "사과      846\n",
      "배       343\n",
      "바나나      17\n",
      "딸기     1954\n",
      "오렌지     440\n",
      "Name: 싱싱한 과일, dtype: int64\n",
      "45\n",
      "     싱싱한 과일  썩은 과일  모든 과일\n",
      "배       343    123    466\n",
      "바나나      17     45     62\n",
      "딸기     1954      2   1956\n"
     ]
    }
   ],
   "source": [
    "print(fruit_df.index)\n",
    "print(fruit_df.columns)\n",
    "print(fruit_df.values)\n",
    "print(fruit_df['싱싱한 과일'])\n",
    "print(fruit_df['썩은 과일']['바나나'])\n",
    "print(fruit_df['배':'딸기'])"
   ]
  },
  {
   "cell_type": "code",
   "execution_count": 58,
   "metadata": {},
   "outputs": [
    {
     "name": "stdout",
     "output_type": "stream",
     "text": [
      "사과     1078\n",
      "배       466\n",
      "바나나      62\n",
      "딸기     1956\n",
      "오렌지     470\n",
      "Name: 모든 과일, dtype: int64\n",
      "<class 'pandas.core.series.Series'>\n"
     ]
    },
    {
     "data": {
      "text/html": [
       "<div>\n",
       "<style scoped>\n",
       "    .dataframe tbody tr th:only-of-type {\n",
       "        vertical-align: middle;\n",
       "    }\n",
       "\n",
       "    .dataframe tbody tr th {\n",
       "        vertical-align: top;\n",
       "    }\n",
       "\n",
       "    .dataframe thead th {\n",
       "        text-align: right;\n",
       "    }\n",
       "</style>\n",
       "<table border=\"1\" class=\"dataframe\">\n",
       "  <thead>\n",
       "    <tr style=\"text-align: right;\">\n",
       "      <th></th>\n",
       "      <th>사과</th>\n",
       "      <th>배</th>\n",
       "      <th>바나나</th>\n",
       "      <th>딸기</th>\n",
       "      <th>오렌지</th>\n",
       "    </tr>\n",
       "  </thead>\n",
       "  <tbody>\n",
       "    <tr>\n",
       "      <th>싱싱한 과일</th>\n",
       "      <td>0.784787</td>\n",
       "      <td>0.736052</td>\n",
       "      <td>0.274194</td>\n",
       "      <td>0.998978</td>\n",
       "      <td>0.93617</td>\n",
       "    </tr>\n",
       "    <tr>\n",
       "      <th>썩은 과일</th>\n",
       "      <td>0.215213</td>\n",
       "      <td>0.263948</td>\n",
       "      <td>0.725806</td>\n",
       "      <td>0.001022</td>\n",
       "      <td>0.06383</td>\n",
       "    </tr>\n",
       "    <tr>\n",
       "      <th>모든 과일</th>\n",
       "      <td>1.000000</td>\n",
       "      <td>1.000000</td>\n",
       "      <td>1.000000</td>\n",
       "      <td>1.000000</td>\n",
       "      <td>1.00000</td>\n",
       "    </tr>\n",
       "  </tbody>\n",
       "</table>\n",
       "</div>"
      ],
      "text/plain": [
       "              사과         배       바나나        딸기      오렌지\n",
       "싱싱한 과일  0.784787  0.736052  0.274194  0.998978  0.93617\n",
       "썩은 과일   0.215213  0.263948  0.725806  0.001022  0.06383\n",
       "모든 과일   1.000000  1.000000  1.000000  1.000000  1.00000"
      ]
     },
     "execution_count": 58,
     "metadata": {},
     "output_type": "execute_result"
    }
   ],
   "source": [
    "print(fruit_df['모든 과일'])\n",
    "print(type(fruit_df['모든 과일']))\n",
    "fruit_df = fruit_df.div(fruit_df['모든 과일'], axis=0)\n",
    "fruit_df.T"
   ]
  },
  {
   "cell_type": "markdown",
   "metadata": {},
   "source": [
    "# Index"
   ]
  },
  {
   "cell_type": "code",
   "execution_count": 59,
   "metadata": {},
   "outputs": [
    {
     "data": {
      "text/plain": [
       "Int64Index([2, 4, 6, 8, 10], dtype='int64')"
      ]
     },
     "execution_count": 59,
     "metadata": {},
     "output_type": "execute_result"
    }
   ],
   "source": [
    "idx = pd.Index([2, 4, 6, 8, 10])\n",
    "idx"
   ]
  },
  {
   "cell_type": "code",
   "execution_count": 60,
   "metadata": {},
   "outputs": [
    {
     "name": "stdout",
     "output_type": "stream",
     "text": [
      "5\n",
      "(5,)\n",
      "1\n",
      "int64\n"
     ]
    }
   ],
   "source": [
    "print(idx.size)\n",
    "print(idx.shape)\n",
    "print(idx.ndim)\n",
    "print(idx.dtype)"
   ]
  },
  {
   "cell_type": "code",
   "execution_count": 61,
   "metadata": {},
   "outputs": [
    {
     "name": "stdout",
     "output_type": "stream",
     "text": [
      "Int64Index([1, 2, 3, 4, 5, 4, 5, 6, 7, 8], dtype='int64')\n",
      "Int64Index([1, 2, 3], dtype='int64')\n",
      "Int64Index([4, 5], dtype='int64')\n",
      "Int64Index([1, 2, 3, 4, 5, 6, 7, 8], dtype='int64')\n",
      "Int64Index([2, 3, 4, 5], dtype='int64')\n",
      "Int64Index([2, 3, 4, 5], dtype='int64')\n",
      "Int64Index([1, 2, 3, 6, 7, 8], dtype='int64')\n"
     ]
    }
   ],
   "source": [
    "idx1 = pd.Index([1, 2, 3, 4, 5])\n",
    "idx2 = pd.Index([4, 5, 6, 7, 8])\n",
    "\n",
    "print(idx1.append(idx2)) \n",
    "# does return value.\n",
    "# not like list.append() which returns None.\n",
    "\n",
    "print(idx1.difference(idx2))\n",
    "print(idx1.intersection(idx2))\n",
    "print(idx1.union(idx2))\n",
    "\n",
    "print(idx1.delete(0)) # delete by index\n",
    "print(idx1.drop(1)) # delete by value\n",
    "print(idx1.symmetric_difference(idx2))"
   ]
  },
  {
   "cell_type": "markdown",
   "metadata": {},
   "source": [
    "# Series 인덱싱"
   ]
  },
  {
   "cell_type": "markdown",
   "metadata": {},
   "source": [
    "# DataFrame 인덱싱"
   ]
  }
 ],
 "metadata": {
  "kernelspec": {
   "display_name": "Python 3",
   "language": "python",
   "name": "python3"
  },
  "language_info": {
   "codemirror_mode": {
    "name": "ipython",
    "version": 3
   },
   "file_extension": ".py",
   "mimetype": "text/x-python",
   "name": "python",
   "nbconvert_exporter": "python",
   "pygments_lexer": "ipython3",
   "version": "3.10.7 (main, Sep 14 2022, 22:38:23) [Clang 14.0.0 (clang-1400.0.29.102)]"
  },
  "orig_nbformat": 4,
  "vscode": {
   "interpreter": {
    "hash": "b0fa6594d8f4cbf19f97940f81e996739fb7646882a419484c72d19e05852a7e"
   }
  }
 },
 "nbformat": 4,
 "nbformat_minor": 2
}
