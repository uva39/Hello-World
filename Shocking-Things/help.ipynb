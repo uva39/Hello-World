{
 "cells": [
  {
   "cell_type": "markdown",
   "metadata": {},
   "source": [
    "구글링이 안되거나 오프라인 프린트물을 허용하지 않는 코딩테스트에서는, 파이썬의 문법 중 헷갈리는 걸 찾아볼 수가 없다. 그럴 때에 VS Code같은 IDE도 사용할 수 없다면 자동완성 기능이 없어서 진짜 어이가 없게 문제를 못 풀 수가 있는데, 두 함수만 알면 그런 억까를 안당할 수 있다.\n",
    "\n",
    "1. help() -> 함수나 클래스의 정보를 알려줌\n",
    "2. dir() -> 클래스의 메소드, 하위 클래스 등의 목록을 알려줌"
   ]
  },
  {
   "cell_type": "code",
   "execution_count": null,
   "metadata": {},
   "outputs": [],
   "source": [
    "from datetime import datetime\n",
    "dir(datetime) # 이걸로 메소드 이름을 파악한 다음에"
   ]
  },
  {
   "cell_type": "code",
   "execution_count": null,
   "metadata": {},
   "outputs": [],
   "source": [
    "help(datetime.weekday) # 얘로 정보를 얻어서 사용한다"
   ]
  }
 ],
 "metadata": {
  "kernelspec": {
   "display_name": "Python 3.10.7 64-bit",
   "language": "python",
   "name": "python3"
  },
  "language_info": {
   "codemirror_mode": {
    "name": "ipython",
    "version": 3
   },
   "file_extension": ".py",
   "mimetype": "text/x-python",
   "name": "python",
   "nbconvert_exporter": "python",
   "pygments_lexer": "ipython3",
   "version": "3.10.7"
  },
  "orig_nbformat": 4,
  "vscode": {
   "interpreter": {
    "hash": "21296890ed30beda34826074664c572761cdb09121e335e8a6831529b6333bf5"
   }
  }
 },
 "nbformat": 4,
 "nbformat_minor": 2
}
