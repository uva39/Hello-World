{
 "cells": [
  {
   "cell_type": "markdown",
   "metadata": {},
   "source": [
    "# 에라스토테네스의 체 효율적으로 구현하기"
   ]
  },
  {
   "cell_type": "code",
   "execution_count": null,
   "metadata": {},
   "outputs": [],
   "source": [
    "import time\n",
    "import sys\n",
    "from functools import wraps\n",
    "\n",
    "# decorator을 사용해서 함수의 실행시간을 측정함\n",
    "# 어떤 알고리즘이 더 빠른지 벤치마킹 테스트를 할 때 사용함\n",
    "\n",
    "def multi_elapsed(n):\n",
    "    def elapsed(f):\n",
    "        @wraps(f)\n",
    "        def wrap(*args, **kwargs):\n",
    "            start_r = time.perf_counter()\n",
    "            start_p = time.process_time()\n",
    "            # 함수 실행\n",
    "            ret = [0]*n\n",
    "            for i in range(n):\n",
    "                ret[i] = f(*args, **kwargs)\n",
    "\n",
    "                if n >= 100:\n",
    "                    if i % (n//100) == 0:\n",
    "                        sys.stdout.write(f'\\r{f.__name__} : {i // (n//100) + 1}% 진행됨 ')\n",
    "            end_r = time.perf_counter()\n",
    "            end_p = time.process_time()\n",
    "            elapsed_r = end_r - start_r\n",
    "            elapsed_p = end_p - start_p\n",
    "\n",
    "            print(f'\\n{f.__name__} elapsed: {elapsed_r:.6g}sec (real) / {elapsed_p:.6g}sec (cpu) / {n} repeated')\n",
    "            return ret\n",
    "        return wrap\n",
    "    return elapsed"
   ]
  },
  {
   "cell_type": "code",
   "execution_count": null,
   "metadata": {},
   "outputs": [],
   "source": [
    "# 슬라이싱을 활용해서 여러 값을 동시에 대입하는 이 방식이 많이 효율적임\n",
    "@multi_elapsed(1000)\n",
    "def f(m):\n",
    "    eras = [True]*m\n",
    "    for i in (2, *range(3, int(m**0.5)+1, 2)): # 2, *(홀수 <= sqrt(m))만 체크\n",
    "        if eras[i]:\n",
    "            eras[i*i::2*i] = [False]*( (m - 1 - i*i)//(2*i) + 1 )\n",
    "    return eras\n",
    "\n",
    "# 사람들이 보통 구현하는 방식 -> n = 백만(1000000) 기준 새 방식에 비해 5배쯤 느림\n",
    "@multi_elapsed(1000)\n",
    "def g(n):\n",
    "    eras = [True]*n\n",
    "    for i in (2, *range(3, int(n**0.5)+1, 2)):\n",
    "        if eras[i]:\n",
    "            for j in range(i*2, n, i):\n",
    "                eras[j] = False\n",
    "    return eras\n",
    "\n",
    "@multi_elapsed(1000)\n",
    "def eratosthenes(n):\n",
    "    MAX = n + 1\n",
    "    LIM = int(n ** 0.5) + 1\n",
    "    prime = set(range(1, MAX))\n",
    "    # TODO: 좀 더 효율적으로 구현하기\n",
    "    # 5 mod 6 과 1 mod 6을 참으로 설정한다. 이들은 2의배수도 아니고 3의 배수도 아닌 숫자집합이다.\n",
    "    # 단, 1은 소수가 아니기에 1 mod 6은 7부터 시작한다.\n",
    "    ret = set(range(5, MAX, 6)) | set(range(7, MAX, 6))\n",
    "    if n > 2: ret.add(3) # 3 추가\n",
    "    if n > 1: ret.add(2) # 2 추가\n",
    "    for i in range(5, LIM, 6):\n",
    "        # 5 mod 6 부분\n",
    "        if i in prime:\n",
    "            prime -= set(range(i * i, MAX, i * 6)) | set(range(i * (i + 2), MAX, i * 6))\n",
    "        # 1 mod 6 부분\n",
    "        j = i + 2\n",
    "        if j in prime:\n",
    "            prime -= set(range(j * j, MAX, j * 6)) | set(range(j * (j + 4), MAX, j * 6))\n",
    "    return ret\n",
    "\n",
    "f(1000000)\n",
    "g(1000000)\n",
    "eratosthenes(1000000)"
   ]
  }
 ],
 "metadata": {
  "kernelspec": {
   "display_name": "Python 3",
   "language": "python",
   "name": "python3"
  },
  "language_info": {
   "name": "python",
   "version": "3.10.7 (tags/v3.10.7:6cc6b13, Sep  5 2022, 14:08:36) [MSC v.1933 64 bit (AMD64)]"
  },
  "orig_nbformat": 4,
  "vscode": {
   "interpreter": {
    "hash": "21296890ed30beda34826074664c572761cdb09121e335e8a6831529b6333bf5"
   }
  }
 },
 "nbformat": 4,
 "nbformat_minor": 2
}
