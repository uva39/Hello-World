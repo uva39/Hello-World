{
 "cells": [
  {
   "cell_type": "markdown",
   "metadata": {},
   "source": [
    "# 에라스토테네스의 체 효율적으로 구현하기"
   ]
  },
  {
   "cell_type": "code",
   "execution_count": 4,
   "metadata": {},
   "outputs": [],
   "source": [
    "import time\n",
    "import sys\n",
    "from functools import wraps\n",
    "\n",
    "# decorator을 사용해서 함수의 실행시간을 측정함\n",
    "# 어떤 알고리즘이 더 빠른지 벤치마킹 테스트를 할 때 사용함\n",
    "\n",
    "def multi_elapsed(n):\n",
    "    def elapsed(f):\n",
    "        @wraps(f)\n",
    "        def wrap(*args, **kwargs):\n",
    "            start_r = time.perf_counter()\n",
    "            start_p = time.process_time()\n",
    "            # 함수 실행\n",
    "            ret = [0]*n\n",
    "            for i in range(n):\n",
    "                ret[i] = f(*args, **kwargs)\n",
    "\n",
    "                if n >= 100:\n",
    "                    if i % (n//100) == 0:\n",
    "                        sys.stdout.write(f'\\r{f.__name__} : {i // (n//100) + 1}% 진행됨 ')\n",
    "            end_r = time.perf_counter()\n",
    "            end_p = time.process_time()\n",
    "            elapsed_r = end_r - start_r\n",
    "            elapsed_p = end_p - start_p\n",
    "\n",
    "            print(f'\\n{f.__name__} elapsed: {elapsed_r:.6g}sec (real) / {elapsed_p:.6g}sec (cpu) / {n} repeated')\n",
    "            return ret\n",
    "        return wrap\n",
    "    return elapsed"
   ]
  },
  {
   "cell_type": "code",
   "execution_count": null,
   "metadata": {},
   "outputs": [],
   "source": [
    "# 보통 구현하는 방식 -> n = 백만(1000000) 기준 새 방식에 비해 5배쯤 느림\n",
    "@multi_elapsed(1000)\n",
    "def g(n):\n",
    "    eras = [True]*n\n",
    "    for i in (2, *range(3, int(n**0.5)+1, 2)):\n",
    "        if eras[i]:\n",
    "            for j in range(i*2, n, i):\n",
    "                eras[j] = False\n",
    "    return eras\n",
    "\n",
    "@multi_elapsed(1000)\n",
    "def h(n):\n",
    "    # Remark: (1 | 3*i + 1)의 의미는, 3*i 이상의 가장 가까운 짝수 + 1임.\n",
    "    if n < 5:\n",
    "        return [i for i in range(n) if i in (2, 3)]\n",
    "    n = n + (6 - n%6) # n 이상, 가장 가까운 6의 배수\n",
    "    c = 2 - (n%6 > 1) # n%6이 0, 1이면 2. 그 외엔 1\n",
    "    sieve = [True] * (n//3)\n",
    "    for i in range(1, int(n**0.5)//3 + 1):\n",
    "        if sieve[i]:\n",
    "            step, square, j = (k := 1 | 3*i + 1) * 2, k * k, k * (k + 4 - 2 * (i & 1))\n",
    "            sieve[square // 3::step] = [False] * ((n//6 - square//6 - 1) // k + 1)\n",
    "            sieve[j // 3::step] = [False] * ((n//6 - j//6 - 1) // k + 1)\n",
    "    return [2, 3] + [1 | 3 * i + 1 for i in range(1, n // 3 - c) if sieve[i]]\n",
    "\n",
    "g(1000000)\n",
    "h(1000000)"
   ]
  }
 ],
 "metadata": {
  "kernelspec": {
   "display_name": "Python 3",
   "language": "python",
   "name": "python3"
  },
  "language_info": {
   "codemirror_mode": {
    "name": "ipython",
    "version": 3
   },
   "file_extension": ".py",
   "mimetype": "text/x-python",
   "name": "python",
   "nbconvert_exporter": "python",
   "pygments_lexer": "ipython3",
   "version": "3.10.7 (tags/v3.10.7:6cc6b13, Sep  5 2022, 14:08:36) [MSC v.1933 64 bit (AMD64)]"
  },
  "orig_nbformat": 4,
  "vscode": {
   "interpreter": {
    "hash": "21296890ed30beda34826074664c572761cdb09121e335e8a6831529b6333bf5"
   }
  }
 },
 "nbformat": 4,
 "nbformat_minor": 2
}
