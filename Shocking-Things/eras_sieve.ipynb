{
 "cells": [
  {
   "cell_type": "markdown",
   "metadata": {},
   "source": [
    "# 에라스토테네스의 체 효율적으로 구현하기"
   ]
  },
  {
   "cell_type": "code",
   "execution_count": 4,
   "metadata": {},
   "outputs": [],
   "source": [
    "import time\n",
    "import sys\n",
    "from functools import wraps\n",
    "\n",
    "# decorator을 사용해서 함수의 실행시간을 측정함\n",
    "# 어떤 알고리즘이 더 빠른지 벤치마킹 테스트를 할 때 사용함\n",
    "\n",
    "def multi_elapsed(n):\n",
    "    def elapsed(f):\n",
    "        @wraps(f)\n",
    "        def wrap(*args, **kwargs):\n",
    "            start_r = time.perf_counter()\n",
    "            start_p = time.process_time()\n",
    "            # 함수 실행\n",
    "            ret = [0]*n\n",
    "            for i in range(n):\n",
    "                ret[i] = f(*args, **kwargs)\n",
    "\n",
    "                if n >= 100:\n",
    "                    if i % (n//100) == 0:\n",
    "                        sys.stdout.write(f'\\r{f.__name__} : {i // (n//100) + 1}% 진행됨 ')\n",
    "            end_r = time.perf_counter()\n",
    "            end_p = time.process_time()\n",
    "            elapsed_r = end_r - start_r\n",
    "            elapsed_p = end_p - start_p\n",
    "\n",
    "            print(f'\\n{f.__name__} elapsed: {elapsed_r:.6g}sec (real) / {elapsed_p:.6g}sec (cpu) / {n} repeated')\n",
    "            return ret\n",
    "        return wrap\n",
    "    return elapsed"
   ]
  },
  {
   "cell_type": "code",
   "execution_count": 5,
   "metadata": {},
   "outputs": [
    {
     "name": "stdout",
     "output_type": "stream",
     "text": [
      "h : 2% 진행됨 \rh : 3% 진행됨 \rh : 4% 진행됨 \rh : 5% 진행됨 \rh : 6% 진행됨 \rh : 7% 진행됨 \rh : 8% 진행됨 \rh : 9% 진행됨 \rh : 10% 진행됨 \rh : 11% 진행됨 \rh : 12% 진행됨 \rh : 13% 진행됨 \rh : 14% 진행됨 \rh : 15% 진행됨 \rh : 16% 진행됨 \rh : 17% 진행됨 \rh : 18% 진행됨 \rh : 19% 진행됨 \rh : 20% 진행됨 \rh : 21% 진행됨 \rh : 22% 진행됨 \rh : 23% 진행됨 \rh : 24% 진행됨 \rh : 25% 진행됨 \rh : 26% 진행됨 \rh : 27% 진행됨 \rh : 28% 진행됨 \rh : 29% 진행됨 \rh : 30% 진행됨 \rh : 31% 진행됨 \rh : 32% 진행됨 \rh : 33% 진행됨 \rh : 34% 진행됨 \rh : 35% 진행됨 \rh : 36% 진행됨 \rh : 37% 진행됨 \rh : 38% 진행됨 \rh : 39% 진행됨 \rh : 40% 진행됨 \rh : 41% 진행됨 \rh : 42% 진행됨 \rh : 43% 진행됨 \rh : 44% 진행됨 \rh : 45% 진행됨 \rh : 46% 진행됨 \rh : 47% 진행됨 \rh : 48% 진행됨 \rh : 49% 진행됨 \rh : 50% 진행됨 \rh : 51% 진행됨 \rh : 52% 진행됨 \rh : 53% 진행됨 \rh : 54% 진행됨 \rh : 55% 진행됨 \rh : 56% 진행됨 \rh : 57% 진행됨 \rh : 58% 진행됨 \rh : 59% 진행됨 \rh : 60% 진행됨 \rh : 61% 진행됨 \rh : 62% 진행됨 \rh : 63% 진행됨 \rh : 64% 진행됨 \rh : 65% 진행됨 \rh : 66% 진행됨 \rh : 67% 진행됨 \rh : 68% 진행됨 \rh : 69% 진행됨 \rh : 70% 진행됨 \rh : 71% 진행됨 \rh : 72% 진행됨 \rh : 73% 진행됨 \rh : 74% 진행됨 \rh : 75% 진행됨 \rh : 76% 진행됨 \rh : 77% 진행됨 \rh : 78% 진행됨 \rh : 79% 진행됨 \rh : 80% 진행됨 \rh : 81% 진행됨 \rh : 82% 진행됨 \rh : 83% 진행됨 \rh : 84% 진행됨 \rh : 85% 진행됨 \rh : 86% 진행됨 \rh : 87% 진행됨 \rh : 88% 진행됨 \rh : 89% 진행됨 \rh : 90% 진행됨 \rh : 91% 진행됨 \rh : 92% 진행됨 \rh : 93% 진행됨 \rh : 94% 진행됨 \rh : 95% 진행됨 \rh : 96% 진행됨 \rh : 97% 진행됨 \rh : 98% 진행됨 \rh : 99% 진행됨 \rh : 100% 진행됨 \n",
      "h elapsed: 13.1327sec (real) / 13.0469sec (cpu) / 1000 repeated\n",
      "\rg : 1% 진행됨 \rg : 2% 진행됨 \rg : 3% 진행됨 \rg : 4% 진행됨 \rg : 5% 진행됨 \rg : 6% 진행됨 \rg : 7% 진행됨 \rg : 8% 진행됨 \rg : 9% 진행됨 \rg : 10% 진행됨 \rg : 11% 진행됨 \rg : 12% 진행됨 \rg : 13% 진행됨 \rg : 14% 진행됨 \rg : 15% 진행됨 \rg : 16% 진행됨 \rg : 17% 진행됨 \rg : 18% 진행됨 \rg : 19% 진행됨 \rg : 20% 진행됨 \rg : 21% 진행됨 \rg : 22% 진행됨 \rg : 23% 진행됨 \rg : 24% 진행됨 \rg : 25% 진행됨 \rg : 26% 진행됨 \rg : 27% 진행됨 \rg : 28% 진행됨 \rg : 29% 진행됨 \rg : 30% 진행됨 \rg : 31% 진행됨 \rg : 32% 진행됨 \rg : 33% 진행됨 \rg : 34% 진행됨 \rg : 35% 진행됨 \rg : 36% 진행됨 \rg : 37% 진행됨 \rg : 38% 진행됨 \rg : 39% 진행됨 \rg : 40% 진행됨 \rg : 41% 진행됨 \rg : 42% 진행됨 \rg : 43% 진행됨 \rg : 44% 진행됨 \rg : 45% 진행됨 \rg : 46% 진행됨 \rg : 47% 진행됨 \rg : 48% 진행됨 \rg : 49% 진행됨 \rg : 50% 진행됨 \rg : 51% 진행됨 \rg : 52% 진행됨 \rg : 53% 진행됨 \rg : 54% 진행됨 \rg : 55% 진행됨 \rg : 56% 진행됨 \rg : 57% 진행됨 \rg : 58% 진행됨 \rg : 59% 진행됨 \rg : 60% 진행됨 \rg : 61% 진행됨 \rg : 62% 진행됨 \rg : 63% 진행됨 \rg : 64% 진행됨 \rg : 65% 진행됨 \rg : 66% 진행됨 \rg : 67% 진행됨 \rg : 68% 진행됨 \rg : 69% 진행됨 \rg : 70% 진행됨 \rg : 71% 진행됨 \rg : 72% 진행됨 \rg : 73% 진행됨 \rg : 74% 진행됨 \rg : 75% 진행됨 \rg : 76% 진행됨 \rg : 77% 진행됨 \rg : 78% 진행됨 \rg : 79% 진행됨 \rg : 80% 진행됨 \rg : 81% 진행됨 \rg : 82% 진행됨 \rg : 83% 진행됨 \rg : 84% 진행됨 \rg : 85% 진행됨 \rg : 86% 진행됨 \rg : 87% 진행됨 \rg : 88% 진행됨 \rg : 89% 진행됨 \rg : 90% 진행됨 \rg : 91% 진행됨 \rg : 92% 진행됨 \rg : 93% 진행됨 \rg : 94% 진행됨 \rg : 95% 진행됨 \rg : 96% 진행됨 \rg : 97% 진행됨 \rg : 98% 진행됨 \rg : 99% 진행됨 \rg : 100% 진행됨 \n",
      "g elapsed: 69.6523sec (real) / 68.6094sec (cpu) / 1000 repeated\n",
      "False\n"
     ]
    }
   ],
   "source": [
    "# 보통 구현하는 방식 -> n = 백만(1000000) 기준 새 방식에 비해 5배쯤 느림\n",
    "@multi_elapsed(1000)\n",
    "def g(n):\n",
    "    eras = [True]*n\n",
    "    for i in (2, *range(3, int(n**0.5)+1, 2)):\n",
    "        if eras[i]:\n",
    "            for j in range(i*2, n, i):\n",
    "                eras[j] = False\n",
    "    return eras\n",
    "\n",
    "@multi_elapsed(1000)\n",
    "def h(n):\n",
    "    # Remark: (1 | 3*i + 1)의 의미는, 3*i 이상의 가장 가까운 짝수 + 1임.\n",
    "    if n < 5:\n",
    "        return [i for i in range(n) if i in (2, 3)]\n",
    "    n = n + (6 - n%6) # n 이상, 가장 가까운 6의 배수\n",
    "    c = 2 - (n%6 > 1) # n%6이 0, 1이면 2. 그 외엔 1\n",
    "    sieve = [True] * (n//3)\n",
    "    for i in range(1, int(n**0.5)//3 + 1):\n",
    "        if sieve[i]:\n",
    "            step, square, j = (k := 1 | 3*i + 1) * 2, k * k, k * (k + 4 - 2 * (i & 1))\n",
    "            sieve[square // 3::step] = [False] * ((n//6 - square//6 - 1) // k + 1)\n",
    "            sieve[j // 3::step] = [False] * ((n//6 - j//6 - 1) // k + 1)\n",
    "    return [2, 3] + [1 | 3 * i + 1 for i in range(1, n // 3 - c) if sieve[i]]\n",
    "\n",
    "g(1000000)\n",
    "h(1000000)"
   ]
  }
 ],
 "metadata": {
  "kernelspec": {
   "display_name": "Python 3",
   "language": "python",
   "name": "python3"
  },
  "language_info": {
   "codemirror_mode": {
    "name": "ipython",
    "version": 3
   },
   "file_extension": ".py",
   "mimetype": "text/x-python",
   "name": "python",
   "nbconvert_exporter": "python",
   "pygments_lexer": "ipython3",
   "version": "3.10.7"
  },
  "orig_nbformat": 4,
  "vscode": {
   "interpreter": {
    "hash": "21296890ed30beda34826074664c572761cdb09121e335e8a6831529b6333bf5"
   }
  }
 },
 "nbformat": 4,
 "nbformat_minor": 2
}
