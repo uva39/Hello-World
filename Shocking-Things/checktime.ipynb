{
 "cells": [
  {
   "cell_type": "markdown",
   "metadata": {},
   "source": [
    "함수의 시간을 벤치마킹해서 측정하고 싶을 때, 이 코드를 복붙해서 실행하면 된다.   \n",
    " @multi_elapsed(함수 반복 실행 횟수)를 데코레이터로 주면 그 횟수만큼 반복해서 실행한 시간을 측정해줌."
   ]
  },
  {
   "cell_type": "code",
   "execution_count": null,
   "metadata": {},
   "outputs": [
    {
     "ename": "",
     "evalue": "",
     "output_type": "error",
     "traceback": [
      "\u001b[1;31m커널을 시작하지 못했습니다. \n",
      "\u001b[1;31mTraceback (most recent call last):\n",
      "\u001b[1;31m  File \"/Users/uva/.vscode/extensions/ms-toolsai.jupyter-2022.9.1202862440/pythonFiles/vscode_datascience_helpers/jupyter_daemon.py\", line 158, in _start_notebook\n",
      "\u001b[1;31m    from notebook import notebookapp as app\n",
      "\u001b[1;31m  File \"/Users/uva/Library/Python/3.8/lib/python/site-packages/notebook/notebookapp.py\", line 57, in <module>\n",
      "\u001b[1;31m    raise ImportError(_(\"The Jupyter Notebook requires tornado >= 5.0, but you have %s\") % tornado.version)\n",
      "\u001b[1;31mImportError: The Jupyter Notebook requires tornado >= 5.0, but you have 4.5.3\n",
      "\u001b[1;31m\n",
      "\u001b[1;31mDuring handling of the above exception, another exception occurred:\n",
      "\u001b[1;31m\n",
      "\u001b[1;31mTraceback (most recent call last):\n",
      "\u001b[1;31m  File \"/Users/uva/.vscode/extensions/ms-toolsai.jupyter-2022.9.1202862440/pythonFiles/vscode_datascience_helpers/daemon/daemon_python.py\", line 54, in _decorator\n",
      "\u001b[1;31m    return func(self, *args, **kwargs)\n",
      "\u001b[1;31m  File \"/Users/uva/.vscode/extensions/ms-toolsai.jupyter-2022.9.1202862440/pythonFiles/vscode_datascience_helpers/jupyter_daemon.py\", line 111, in m_exec_module_observable\n",
      "\u001b[1;31m    self._start_notebook(args, cwd, env)\n",
      "\u001b[1;31m  File \"/Users/uva/.vscode/extensions/ms-toolsai.jupyter-2022.9.1202862440/pythonFiles/vscode_datascience_helpers/jupyter_daemon.py\", line 160, in _start_notebook\n",
      "\u001b[1;31m    from notebook import app as app\n",
      "\u001b[1;31mImportError: cannot import name 'app' from 'notebook' (/Users/uva/Library/Python/3.8/lib/python/site-packages/notebook/__init__.py)\n",
      "\u001b[1;31m\n",
      "\u001b[1;31mFailed to run jupyter as observable with args notebook --no-browser --notebook-dir=\"/Users/uva/Desktop/Hello-World/Shocking-Things\" --config=/var/folders/r3/7n1n1h3x3hvcyqd0xnpjm0lr0000gn/T/13b611f9-1f72-4600-a2e1-c8c458fda8eb/jupyter_notebook_config.py --NotebookApp.iopub_data_rate_limit=10000000000.0. \n",
      "\u001b[1;31m자세한 내용은 Jupyter <a href='command:jupyter.viewOutput'>로그</a>를 참조하세요."
     ]
    }
   ],
   "source": [
    "import time\n",
    "import sys\n",
    "from functools import wraps\n",
    "\n",
    "# decorator을 사용해서 함수의 실행시간을 측정함\n",
    "# 어떤 알고리즘이 더 빠른지 벤치마킹 테스트를 할 때 사용함\n",
    "\n",
    "def multi_elapsed(n):\n",
    "    def elapsed(f):\n",
    "        @wraps(f)\n",
    "        def wrap(*args, **kwargs):\n",
    "            start_r = time.perf_counter()\n",
    "            start_p = time.process_time()\n",
    "            # 함수 실행\n",
    "            ret = [0]*n\n",
    "            for i in range(n):\n",
    "                ret[i] = f(*args, **kwargs)\n",
    "\n",
    "                if n >= 100:\n",
    "                    if i % (n//100) == 0:\n",
    "                        sys.stdout.write(f'\\r{f.__name__} : {i // (n//100) + 1}% 진행됨 ')\n",
    "            end_r = time.perf_counter()\n",
    "            end_p = time.process_time()\n",
    "            elapsed_r = end_r - start_r\n",
    "            elapsed_p = end_p - start_p\n",
    "\n",
    "            print(f'\\n{f.__name__} elapsed: {elapsed_r:.6g}sec (real) / {elapsed_p:.6g}sec (cpu) / {n} repeated')\n",
    "            return ret\n",
    "        return wrap\n",
    "    return elapsed"
   ]
  },
  {
   "cell_type": "code",
   "execution_count": null,
   "metadata": {},
   "outputs": [
    {
     "ename": "",
     "evalue": "",
     "output_type": "error",
     "traceback": [
      "\u001b[1;31m커널을 시작하지 못했습니다. \n",
      "\u001b[1;31mTraceback (most recent call last):\n",
      "\u001b[1;31m  File \"/Users/uva/.vscode/extensions/ms-toolsai.jupyter-2022.9.1202862440/pythonFiles/vscode_datascience_helpers/jupyter_daemon.py\", line 158, in _start_notebook\n",
      "\u001b[1;31m    from notebook import notebookapp as app\n",
      "\u001b[1;31m  File \"/Users/uva/Library/Python/3.8/lib/python/site-packages/notebook/notebookapp.py\", line 57, in <module>\n",
      "\u001b[1;31m    raise ImportError(_(\"The Jupyter Notebook requires tornado >= 5.0, but you have %s\") % tornado.version)\n",
      "\u001b[1;31mImportError: The Jupyter Notebook requires tornado >= 5.0, but you have 4.5.3\n",
      "\u001b[1;31m\n",
      "\u001b[1;31mDuring handling of the above exception, another exception occurred:\n",
      "\u001b[1;31m\n",
      "\u001b[1;31mTraceback (most recent call last):\n",
      "\u001b[1;31m  File \"/Users/uva/.vscode/extensions/ms-toolsai.jupyter-2022.9.1202862440/pythonFiles/vscode_datascience_helpers/daemon/daemon_python.py\", line 54, in _decorator\n",
      "\u001b[1;31m    return func(self, *args, **kwargs)\n",
      "\u001b[1;31m  File \"/Users/uva/.vscode/extensions/ms-toolsai.jupyter-2022.9.1202862440/pythonFiles/vscode_datascience_helpers/jupyter_daemon.py\", line 111, in m_exec_module_observable\n",
      "\u001b[1;31m    self._start_notebook(args, cwd, env)\n",
      "\u001b[1;31m  File \"/Users/uva/.vscode/extensions/ms-toolsai.jupyter-2022.9.1202862440/pythonFiles/vscode_datascience_helpers/jupyter_daemon.py\", line 160, in _start_notebook\n",
      "\u001b[1;31m    from notebook import app as app\n",
      "\u001b[1;31mImportError: cannot import name 'app' from 'notebook' (/Users/uva/Library/Python/3.8/lib/python/site-packages/notebook/__init__.py)\n",
      "\u001b[1;31m\n",
      "\u001b[1;31mFailed to run jupyter as observable with args notebook --no-browser --notebook-dir=\"/Users/uva/Desktop/Hello-World/Shocking-Things\" --config=/var/folders/r3/7n1n1h3x3hvcyqd0xnpjm0lr0000gn/T/13b611f9-1f72-4600-a2e1-c8c458fda8eb/jupyter_notebook_config.py --NotebookApp.iopub_data_rate_limit=10000000000.0. \n",
      "\u001b[1;31m자세한 내용은 Jupyter <a href='command:jupyter.viewOutput'>로그</a>를 참조하세요."
     ]
    }
   ],
   "source": [
    "# 사용 예시\n",
    "\n",
    "@multi_elapsed(1000)\n",
    "def comp_flat(l):\n",
    "    return [item for sublist in m for item in sublist]\n",
    "\n",
    "@multi_elapsed(1000)\n",
    "def sum_flat(l):\n",
    "    return sum(l,[])\n",
    "\n",
    "if __name__ == '__main__':\n",
    "    n = 20\n",
    "    m = [[i*n + j for j in range(n)] for i in range(n)]\n",
    "    sum_flat(m)\n",
    "    comp_flat(m)"
   ]
  }
 ],
 "metadata": {
  "kernelspec": {
   "display_name": "Python 3.10.7 64-bit",
   "language": "python",
   "name": "python3"
  },
  "language_info": {
   "name": "python",
   "version": "3.10.7"
  },
  "orig_nbformat": 4,
  "vscode": {
   "interpreter": {
    "hash": "b0fa6594d8f4cbf19f97940f81e996739fb7646882a419484c72d19e05852a7e"
   }
  }
 },
 "nbformat": 4,
 "nbformat_minor": 2
}
