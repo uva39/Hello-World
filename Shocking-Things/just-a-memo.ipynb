{
 "cells": [
  {
   "cell_type": "markdown",
   "metadata": {},
   "source": [
    "### from sys import stdin의 아이러니한 속도\n",
    "```py\n",
    "from sys import stdin   \n",
    "input = stdin.readline\n",
    "```\n",
    "이거보다\n",
    "```py\n",
    "import sys\n",
    "input = sys.stdin.readline\n",
    "```\n",
    "이게 더 빠르다."
   ]
  },
  {
   "cell_type": "markdown",
   "metadata": {},
   "source": [
    "### `[*map]` 사용하기, `map(len, iterable)`로 개수 세기\n",
    "```py\n",
    "command = [*map(len, command.split('R'))]\n",
    "```\n",
    "가독성도 `list(map)`보다 `[*map]`이 조금 더 좋은 것 같아서 이건 꽤 좋은듯.   \n",
    "그리고 `map(len, str.split())`으로 개수세기 하는 건 정말 파이써닉하게 괜찮은 방법인듯 함"
   ]
  },
  {
   "cell_type": "markdown",
   "metadata": {},
   "source": [
    "### 예외처리, try - except구문 활용하기\n",
    "\n",
    "그냥 try - except 구문 자체가 빠르기도 하고, 만약에 조건문으로 예외처리를 하려면 계산이 좀 복잡하거나, 함수 호출이 조금 일어나는 경우라면, try - except 구문으로 예외처리를 하는 편이 코드 길이도 짧아져서 가독성도 좋고, 속도도 빠른듯 함. 앞으로 애용해야할듯"
   ]
  },
  {
   "cell_type": "markdown",
   "metadata": {},
   "source": [
    "### 리스트의 모든 원소를 원하는 모양으로 가장 빠르게 출력하기\n",
    "\n",
    "```py\n",
    "print(f\"[{','.join(nums)}]\")\n",
    "# Output: [1,2,3,4] 의 형태\n",
    "```\n",
    "f-string이랑, str.join을 같이 쓰면 리스트의 모든 원소를 가장 빠르고, 간결하게 원하는 모양으로 출력할 수 있다."
   ]
  },
  {
   "cell_type": "markdown",
   "metadata": {},
   "source": [
    "### help, dir 활용하기\n",
    "구글링이 안되거나 오프라인 프린트물을 허용하지 않는 코딩테스트에서는, 파이썬의 문법 중 헷갈리는 걸 찾아볼 수가 없다. 그럴 때에 VS Code같은 IDE도 사용할 수 없다면 자동완성 기능이 없어서 진짜 어이가 없게 문제를 못 풀 수가 있는데, 두 함수만 알면 그런 억까를 안당할 수 있다.\n",
    "\n",
    "1. help() -> 함수나 클래스의 정보를 알려줌\n",
    "2. dir() -> 클래스의 메소드, 하위 클래스 등의 목록을 알려줌\n",
    "\n",
    "```py\n",
    "from datetime import datetime\n",
    "dir(datetime) # 이걸로 메소드 이름을 파악한 다음에\n",
    "help(datetime.weekday) # 얘로 정보를 얻어서 사용한다\n",
    "```"
   ]
  },
  {
   "cell_type": "markdown",
   "metadata": {},
   "source": [
    "### PS할때 제출코드 함수로 감싸기\n",
    "파이썬은 전역변수가 느리기 때문에 지역변수가 훨씬 빨라서, 아무 의미가 없는 함수로 제출코드를 감싸주는 것만으로도 실행 속도가 올라간다. 조금 말도안되는 것 같지만, 진짜로 그렇게 된다.   \n",
    "```py\n",
    "import sys\n",
    "input = sys.stdin.readline # 이정도는 함수 밖에 써도 ㄱㅊ\n",
    "def sol():\n",
    "    pass\n",
    "if __name__ == '__main__':\n",
    "    sol() # 이정도만 해도 속도가 올라간다! 꿀팁\n",
    "```"
   ]
  }
 ],
 "metadata": {
  "kernelspec": {
   "display_name": "Python 3",
   "language": "python",
   "name": "python3"
  },
  "language_info": {
   "name": "python",
   "version": "3.10.7 (tags/v3.10.7:6cc6b13, Sep  5 2022, 14:08:36) [MSC v.1933 64 bit (AMD64)]"
  },
  "orig_nbformat": 4,
  "vscode": {
   "interpreter": {
    "hash": "21296890ed30beda34826074664c572761cdb09121e335e8a6831529b6333bf5"
   }
  }
 },
 "nbformat": 4,
 "nbformat_minor": 2
}
