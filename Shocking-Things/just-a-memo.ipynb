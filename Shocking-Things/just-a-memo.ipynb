{
 "cells": [
  {
   "cell_type": "markdown",
   "metadata": {},
   "source": [
    "1. from sys import stdin의 아이러니한 속도\n",
    "```py\n",
    "from sys import stdin   \n",
    "input = stdin.readline\n",
    "```\n",
    "이거보다\n",
    "```py\n",
    "import sys\n",
    "input = sys.stdin.readline\n",
    "```\n",
    "이게 더 빠르다."
   ]
  }
 ],
 "metadata": {
  "language_info": {
   "name": "python"
  },
  "orig_nbformat": 4
 },
 "nbformat": 4,
 "nbformat_minor": 2
}
