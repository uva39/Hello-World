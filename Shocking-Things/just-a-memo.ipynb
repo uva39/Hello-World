{
 "cells": [
  {
   "cell_type": "markdown",
   "metadata": {},
   "source": [
    "1 - from sys import stdin의 아이러니한 속도\n",
    "```py\n",
    "from sys import stdin   \n",
    "input = stdin.readline\n",
    "```\n",
    "이거보다\n",
    "```py\n",
    "import sys\n",
    "input = sys.stdin.readline\n",
    "```\n",
    "이게 더 빠르다."
   ]
  },
  {
   "cell_type": "markdown",
   "metadata": {},
   "source": [
    "2 - [*map] 사용하기, map(len, iterable)로 개수 세기\n",
    "```py\n",
    "command = [*map(len, command.split('R'))]\n",
    "```\n",
    "가독성도 list(map)보다 [*map]이 조금 더 좋은 것 같아서 이건 꽤 좋은듯.   \n",
    "그리고 `map(len, str.split())`으로 개수세기 하는 건 정말 파이써닉하게 괜찮은 방법인듯 함"
   ]
  },
  {
   "cell_type": "markdown",
   "metadata": {},
   "source": [
    "3 - 예외처리, try - except구문 활용하기\n",
    "\n",
    "그냥 try - except 구문 자체가 빠르기도 하고, 만약에 조건문으로 예외처리를 하려면 계산이 좀 복잡하거나, 함수 호출이 조금 일어나는 경우라면, try - except 구문으로 예외처리를 하는 편이 코드 길이도 짧아져서 가독성도 좋고, 속도도 빠른듯 함. 앞으로 애용해야할듯"
   ]
  },
  {
   "cell_type": "markdown",
   "metadata": {},
   "source": [
    "4 - 리스트의 모든 원소를 원하는 모양으로 가장 빠르게 출력하기\n",
    "\n",
    "```py\n",
    "print(f\"[{','.join(nums)}]\")\n",
    "# Output: [1,2,3,4] 의 형태\n",
    "```\n",
    "f-string이랑, str.join을 같이 쓰면 리스트의 모든 원소를 가장 빠르고, 간결하게 원하는 모양으로 출력할 수 있다."
   ]
  }
 ],
 "metadata": {
  "kernelspec": {
   "display_name": "Python 3.10.7 64-bit",
   "language": "python",
   "name": "python3"
  },
  "language_info": {
   "name": "python",
   "version": "3.10.7"
  },
  "orig_nbformat": 4,
  "vscode": {
   "interpreter": {
    "hash": "b0fa6594d8f4cbf19f97940f81e996739fb7646882a419484c72d19e05852a7e"
   }
  }
 },
 "nbformat": 4,
 "nbformat_minor": 2
}
